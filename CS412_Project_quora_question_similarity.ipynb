{
  "cells": [
    {
      "cell_type": "code",
      "execution_count": null,
      "id": "b73f5dfd-2de8-4e80-8485-2fe3918f180c",
      "metadata": {
        "id": "b73f5dfd-2de8-4e80-8485-2fe3918f180c",
        "outputId": "03b5ae44-8680-4a08-9c0c-f8a7dcf0ece3"
      },
      "outputs": [
        {
          "name": "stdout",
          "output_type": "stream",
          "text": [
            "--2023-11-13 16:12:09--  https://s3.amazonaws.com/dl4j-distribution/GoogleNews-vectors-negative300.bin.gz\n",
            "Resolving s3.amazonaws.com (s3.amazonaws.com)... 52.216.32.200, 52.217.123.136, 52.216.38.104, ...\n",
            "Connecting to s3.amazonaws.com (s3.amazonaws.com)|52.216.32.200|:443... connected.\n",
            "HTTP request sent, awaiting response... 404 Not Found\n",
            "2023-11-13 16:12:09 ERROR 404: Not Found.\n",
            "\n"
          ]
        }
      ],
      "source": [
        "# !wget -c \"http://qim.fs.quoracdn.net/quora_duplicate_questions.tsv\"\n",
        "# !wget -c \"https://s3.amazonaws.com/dl4j-distribution/GoogleNews-vectors-negative300.bin.gz\"\n",
        "# !wget -c \"http://nlp.stanford.edu/data/glove.twitter.27B.zip\"\n",
        "# !wget -c \"https://dl.fbaipublicfiles.com/fasttext/vectors-crawl/cc.en.300.bin.gz\"\n",
        "# !unzip -o glove.twitter.27B.zip"
      ]
    },
    {
      "cell_type": "code",
      "execution_count": null,
      "id": "9adf9aba-e87f-450e-9857-514580517a36",
      "metadata": {
        "id": "9adf9aba-e87f-450e-9857-514580517a36"
      },
      "outputs": [],
      "source": [
        "# !pip3 install -U sentence-transformers\n",
        "# !pip3 install --upgrade Gensim\n",
        "# !pip3 install fuzzywuzzy\n",
        "# !pip3 install --upgrade networkx\n",
        "# !pip3 install imblearn"
      ]
    },
    {
      "cell_type": "code",
      "execution_count": null,
      "id": "c35d0002-c6d6-4242-98ba-10b7df0eaba6",
      "metadata": {
        "id": "c35d0002-c6d6-4242-98ba-10b7df0eaba6",
        "outputId": "43b8e61c-5540-4092-b295-9cbf2db3369a",
        "colab": {
          "base_uri": "https://localhost:8080/",
          "height": 393
        }
      },
      "outputs": [
        {
          "output_type": "error",
          "ename": "ModuleNotFoundError",
          "evalue": "ignored",
          "traceback": [
            "\u001b[0;31m---------------------------------------------------------------------------\u001b[0m",
            "\u001b[0;31mModuleNotFoundError\u001b[0m                       Traceback (most recent call last)",
            "\u001b[0;32m<ipython-input-1-35fd51ee30ee>\u001b[0m in \u001b[0;36m<cell line: 6>\u001b[0;34m()\u001b[0m\n\u001b[1;32m      4\u001b[0m \u001b[0;32mimport\u001b[0m \u001b[0mre\u001b[0m\u001b[0;34m\u001b[0m\u001b[0;34m\u001b[0m\u001b[0m\n\u001b[1;32m      5\u001b[0m \u001b[0;32mimport\u001b[0m \u001b[0mhashlib\u001b[0m\u001b[0;34m\u001b[0m\u001b[0;34m\u001b[0m\u001b[0m\n\u001b[0;32m----> 6\u001b[0;31m \u001b[0;32mfrom\u001b[0m \u001b[0mfuzzywuzzy\u001b[0m \u001b[0;32mimport\u001b[0m \u001b[0mfuzz\u001b[0m\u001b[0;34m\u001b[0m\u001b[0;34m\u001b[0m\u001b[0m\n\u001b[0m\u001b[1;32m      7\u001b[0m \u001b[0;32mfrom\u001b[0m \u001b[0mIPython\u001b[0m\u001b[0;34m.\u001b[0m\u001b[0mdisplay\u001b[0m \u001b[0;32mimport\u001b[0m \u001b[0mdisplay\u001b[0m\u001b[0;34m\u001b[0m\u001b[0;34m\u001b[0m\u001b[0m\n\u001b[1;32m      8\u001b[0m \u001b[0;32mfrom\u001b[0m \u001b[0mcollections\u001b[0m \u001b[0;32mimport\u001b[0m \u001b[0mdefaultdict\u001b[0m\u001b[0;34m\u001b[0m\u001b[0;34m\u001b[0m\u001b[0m\n",
            "\u001b[0;31mModuleNotFoundError\u001b[0m: No module named 'fuzzywuzzy'",
            "",
            "\u001b[0;31m---------------------------------------------------------------------------\u001b[0;32m\nNOTE: If your import is failing due to a missing package, you can\nmanually install dependencies using either !pip or !apt.\n\nTo view examples of installing some common dependencies, click the\n\"Open Examples\" button below.\n\u001b[0;31m---------------------------------------------------------------------------\u001b[0m\n"
          ],
          "errorDetails": {
            "actions": [
              {
                "action": "open_url",
                "actionText": "Open Examples",
                "url": "/notebooks/snippets/importing_libraries.ipynb"
              }
            ]
          }
        }
      ],
      "source": [
        "import pandas as pd\n",
        "import numpy as np\n",
        "import scipy\n",
        "import re\n",
        "import hashlib\n",
        "from fuzzywuzzy import fuzz\n",
        "from IPython.display import display\n",
        "from collections import defaultdict\n",
        "from matplotlib import pyplot\n",
        "import networkx as nx\n",
        "import time\n",
        "import sys\n",
        "from functools import reduce"
      ]
    },
    {
      "cell_type": "code",
      "execution_count": null,
      "id": "03b76081-c00b-4157-a4e1-2b6d20deff7a",
      "metadata": {
        "id": "03b76081-c00b-4157-a4e1-2b6d20deff7a"
      },
      "outputs": [],
      "source": [
        "train_dataset = pd.read_csv('quora_duplicate_questions.tsv', delimiter='\\t').dropna(how='any').reset_index(drop=True)"
      ]
    },
    {
      "cell_type": "code",
      "execution_count": null,
      "id": "e023966e-ed1b-409d-a1bc-6505511f4b47",
      "metadata": {
        "id": "e023966e-ed1b-409d-a1bc-6505511f4b47",
        "outputId": "ef3d4883-aa37-42e4-ef04-234d01f958d0"
      },
      "outputs": [
        {
          "data": {
            "text/html": [
              "<div>\n",
              "<style scoped>\n",
              "    .dataframe tbody tr th:only-of-type {\n",
              "        vertical-align: middle;\n",
              "    }\n",
              "\n",
              "    .dataframe tbody tr th {\n",
              "        vertical-align: top;\n",
              "    }\n",
              "\n",
              "    .dataframe thead th {\n",
              "        text-align: right;\n",
              "    }\n",
              "</style>\n",
              "<table border=\"1\" class=\"dataframe\">\n",
              "  <thead>\n",
              "    <tr style=\"text-align: right;\">\n",
              "      <th></th>\n",
              "      <th>id</th>\n",
              "      <th>qid1</th>\n",
              "      <th>qid2</th>\n",
              "      <th>question1</th>\n",
              "      <th>question2</th>\n",
              "      <th>is_duplicate</th>\n",
              "    </tr>\n",
              "  </thead>\n",
              "  <tbody>\n",
              "    <tr>\n",
              "      <th>0</th>\n",
              "      <td>0</td>\n",
              "      <td>1</td>\n",
              "      <td>2</td>\n",
              "      <td>What is the step by step guide to invest in sh...</td>\n",
              "      <td>What is the step by step guide to invest in sh...</td>\n",
              "      <td>0</td>\n",
              "    </tr>\n",
              "    <tr>\n",
              "      <th>1</th>\n",
              "      <td>1</td>\n",
              "      <td>3</td>\n",
              "      <td>4</td>\n",
              "      <td>What is the story of Kohinoor (Koh-i-Noor) Dia...</td>\n",
              "      <td>What would happen if the Indian government sto...</td>\n",
              "      <td>0</td>\n",
              "    </tr>\n",
              "    <tr>\n",
              "      <th>2</th>\n",
              "      <td>2</td>\n",
              "      <td>5</td>\n",
              "      <td>6</td>\n",
              "      <td>How can I increase the speed of my internet co...</td>\n",
              "      <td>How can Internet speed be increased by hacking...</td>\n",
              "      <td>0</td>\n",
              "    </tr>\n",
              "    <tr>\n",
              "      <th>3</th>\n",
              "      <td>3</td>\n",
              "      <td>7</td>\n",
              "      <td>8</td>\n",
              "      <td>Why am I mentally very lonely? How can I solve...</td>\n",
              "      <td>Find the remainder when [math]23^{24}[/math] i...</td>\n",
              "      <td>0</td>\n",
              "    </tr>\n",
              "    <tr>\n",
              "      <th>4</th>\n",
              "      <td>4</td>\n",
              "      <td>9</td>\n",
              "      <td>10</td>\n",
              "      <td>Which one dissolve in water quikly sugar, salt...</td>\n",
              "      <td>Which fish would survive in salt water?</td>\n",
              "      <td>0</td>\n",
              "    </tr>\n",
              "  </tbody>\n",
              "</table>\n",
              "</div>"
            ],
            "text/plain": [
              "   id  qid1  qid2                                          question1  \\\n",
              "0   0     1     2  What is the step by step guide to invest in sh...   \n",
              "1   1     3     4  What is the story of Kohinoor (Koh-i-Noor) Dia...   \n",
              "2   2     5     6  How can I increase the speed of my internet co...   \n",
              "3   3     7     8  Why am I mentally very lonely? How can I solve...   \n",
              "4   4     9    10  Which one dissolve in water quikly sugar, salt...   \n",
              "\n",
              "                                           question2  is_duplicate  \n",
              "0  What is the step by step guide to invest in sh...             0  \n",
              "1  What would happen if the Indian government sto...             0  \n",
              "2  How can Internet speed be increased by hacking...             0  \n",
              "3  Find the remainder when [math]23^{24}[/math] i...             0  \n",
              "4            Which fish would survive in salt water?             0  "
            ]
          },
          "execution_count": 6,
          "metadata": {},
          "output_type": "execute_result"
        }
      ],
      "source": [
        "train_dataset.head()"
      ]
    },
    {
      "cell_type": "markdown",
      "id": "f32e338b-c806-402b-a451-6792fe933a2c",
      "metadata": {
        "id": "f32e338b-c806-402b-a451-6792fe933a2c"
      },
      "source": [
        "## Data Preprocessing"
      ]
    },
    {
      "cell_type": "code",
      "execution_count": null,
      "id": "e0b646f3-1b2f-40dc-a112-5506ac2f6252",
      "metadata": {
        "id": "e0b646f3-1b2f-40dc-a112-5506ac2f6252",
        "outputId": "d33ec419-118d-4177-cc7f-6cadbad8b5ca"
      },
      "outputs": [
        {
          "name": "stderr",
          "output_type": "stream",
          "text": [
            "[nltk_data] Error loading stopwords: <urlopen error [SSL:\n",
            "[nltk_data]     CERTIFICATE_VERIFY_FAILED] certificate verify failed:\n",
            "[nltk_data]     unable to get local issuer certificate (_ssl.c:1122)>\n",
            "[nltk_data] Error loading punkt: <urlopen error [SSL:\n",
            "[nltk_data]     CERTIFICATE_VERIFY_FAILED] certificate verify failed:\n",
            "[nltk_data]     unable to get local issuer certificate (_ssl.c:1122)>\n"
          ]
        },
        {
          "data": {
            "text/plain": [
              "False"
            ]
          },
          "execution_count": 7,
          "metadata": {},
          "output_type": "execute_result"
        }
      ],
      "source": [
        "import nltk\n",
        "from nltk.corpus import stopwords\n",
        "from nltk import word_tokenize\n",
        "from nltk.stem import SnowballStemmer\n",
        "\n",
        "nltk.download('stopwords')\n",
        "nltk.download('punkt')"
      ]
    },
    {
      "cell_type": "code",
      "execution_count": null,
      "id": "4a62c1f5-ef06-48a3-bc58-ee0077b02c2f",
      "metadata": {
        "id": "4a62c1f5-ef06-48a3-bc58-ee0077b02c2f"
      },
      "outputs": [],
      "source": [
        "train_dataset = train_dataset.drop(['id','qid1','qid2'],axis=1)"
      ]
    },
    {
      "cell_type": "code",
      "execution_count": null,
      "id": "2283ce85-a887-4b00-b115-584422f51f73",
      "metadata": {
        "id": "2283ce85-a887-4b00-b115-584422f51f73"
      },
      "outputs": [],
      "source": [
        "train_dataset = train_dataset.fillna(\"\")"
      ]
    },
    {
      "cell_type": "code",
      "execution_count": null,
      "id": "f536f9f8-00d2-4963-affb-ad04fef3bf47",
      "metadata": {
        "id": "f536f9f8-00d2-4963-affb-ad04fef3bf47",
        "outputId": "28401a86-1c26-42dc-c5fe-f0c05a1f1601"
      },
      "outputs": [
        {
          "data": {
            "text/plain": [
              "<Axes: xlabel='is_duplicate'>"
            ]
          },
          "execution_count": 10,
          "metadata": {},
          "output_type": "execute_result"
        },
        {
          "data": {
            "image/png": "[encoded data removed]",
            "text/plain": [
              "<Figure size 640x480 with 1 Axes>"
            ]
          },
          "metadata": {},
          "output_type": "display_data"
        }
      ],
      "source": [
        "train_dataset['is_duplicate'].value_counts(normalize=True).plot.bar()"
      ]
    },
    {
      "cell_type": "code",
      "execution_count": null,
      "id": "83619278-b50c-4e91-8d82-e809a901f265",
      "metadata": {
        "id": "83619278-b50c-4e91-8d82-e809a901f265"
      },
      "outputs": [],
      "source": [
        "stop_words = set(stopwords.words('english'))\n",
        "stemmer = SnowballStemmer('english')\n",
        "\n",
        "def preprocessing_text( txt):\n",
        "        txt = txt.lower()\n",
        "        txt = txt.replace(',000,000', 'm').replace(',000', 'k'\n",
        "                ).replace('\\xe2\\x80\\xb2', \"'\").replace('\\xe2\\x80\\x99',\n",
        "                \"'\").replace(\"can't\", 'cannot').replace(\"don't\",\n",
        "                'do not').replace(\"isn't\", 'is not').replace(\"you're\",\n",
        "                'you are').replace(\"you've\", 'you have'\n",
        "                                   ).replace(\"you'll\", 'you will'\n",
        "                ).replace(\"that'll\", 'that will').replace(\"should've\",\n",
        "                'should have').replace(\"aren't\", 'are not'\n",
        "                ).replace(\"couldn't\", 'could not').replace(\"didn't\",\n",
        "                'did not').replace(\"doesn't\", 'does not'\n",
        "                                   ).replace(\"hadn't\", 'had not'\n",
        "                ).replace(\"hasn't\", 'has not').replace(\"haven't\",\n",
        "                'have not').replace(\"mustn't\", 'must not'\n",
        "                                    ).replace(\"wasn't\", 'was not'\n",
        "                ).replace(\"i'm\", 'i am').replace(\"he's\", 'he is'\n",
        "                ).replace(\"she's\", 'she is').replace(\"ain't\", 'am not'\n",
        "                ).replace('%', ' percent ').replace('\\xe2\\x82\\xb9',\n",
        "                ' rupee ').replace('$', ' dollar '\n",
        "                                   ).replace('\\xe2\\x82\\xac', ' euro '\n",
        "                ).replace(\"'ll\", ' will').replace(\"'ve\", ' have'\n",
        "                ).replace(\"it's\", 'it is')\n",
        "\n",
        "        txt = re.sub(r\"[^A-Za-z0-9(),!.?\\'\\`]\", ' ', txt)\n",
        "        txt = re.sub(r\"\\'s\", \" 's \", txt)\n",
        "        txt = re.sub(r\"\\'ve\", \" 've \", txt)\n",
        "        txt = re.sub(r\"n\\'t\", \" 't \", txt)\n",
        "        txt = re.sub(r\"\\'re\", \" 're \", txt)\n",
        "        txt = re.sub(r\"\\'d\", \" 'd \", txt)\n",
        "        txt = re.sub(r\"\\'ll\", \" 'll \", txt)\n",
        "        txt = re.sub(r\",\", ' ', txt)\n",
        "        txt = re.sub(r\"\\.\", ' ', txt)\n",
        "        txt = re.sub(r\"!\", ' ', txt)\n",
        "        txt = re.sub(r\"\\(\", ' ( ', txt)\n",
        "        txt = re.sub(r\"\\)\", ' ) ', txt)\n",
        "        txt = re.sub(r\"\\?\", ' ', txt)\n",
        "        txt = re.sub(r\"\\s{2,}\", ' ', txt)\n",
        "        text_tokens = word_tokenize(txt)\n",
        "        tokens_without_sw = [word for word in text_tokens if word not\n",
        "                             in stop_words and len(word) != 1]\n",
        "        # txt = ' '.join(tokens_without_sw)\n",
        "        # txt = stemmer.stem(txt)\n",
        "\n",
        "\n",
        "        # Lemmatize\n",
        "        lemmatizer = WordNetLemmatizer()\n",
        "        lemmatized_tokens = [lemmatizer.lemmatize(w) for w in tokens_without_sw]\n",
        "\n",
        "        # Reconstruct the text from tokens\n",
        "        processed_text = ' '.join(lemmatized_tokens)\n",
        "\n",
        "        return txt"
      ]
    },
    {
      "cell_type": "code",
      "execution_count": null,
      "id": "6b0184b1-0c85-4243-b39d-688f7fe01c0e",
      "metadata": {
        "id": "6b0184b1-0c85-4243-b39d-688f7fe01c0e"
      },
      "outputs": [],
      "source": [
        "train_dataset['question1_clean'] = train_dataset['question1'].apply(preprocessing_text)\n",
        "train_dataset['question2_clean'] = train_dataset['question2'].apply(preprocessing_text)\n"
      ]
    },
    {
      "cell_type": "code",
      "execution_count": null,
      "id": "548806c8-f554-41ff-bdf0-e5106b78e5d7",
      "metadata": {
        "id": "548806c8-f554-41ff-bdf0-e5106b78e5d7",
        "outputId": "3c3cb193-0fad-4a40-d0d4-b0111378b3c8"
      },
      "outputs": [
        {
          "data": {
            "text/html": [
              "<div>\n",
              "<style scoped>\n",
              "    .dataframe tbody tr th:only-of-type {\n",
              "        vertical-align: middle;\n",
              "    }\n",
              "\n",
              "    .dataframe tbody tr th {\n",
              "        vertical-align: top;\n",
              "    }\n",
              "\n",
              "    .dataframe thead th {\n",
              "        text-align: right;\n",
              "    }\n",
              "</style>\n",
              "<table border=\"1\" class=\"dataframe\">\n",
              "  <thead>\n",
              "    <tr style=\"text-align: right;\">\n",
              "      <th></th>\n",
              "      <th>question1</th>\n",
              "      <th>question2</th>\n",
              "      <th>is_duplicate</th>\n",
              "      <th>question1_clean</th>\n",
              "      <th>question2_clean</th>\n",
              "    </tr>\n",
              "  </thead>\n",
              "  <tbody>\n",
              "    <tr>\n",
              "      <th>0</th>\n",
              "      <td>What is the step by step guide to invest in sh...</td>\n",
              "      <td>What is the step by step guide to invest in sh...</td>\n",
              "      <td>0</td>\n",
              "      <td>step step guide invest share market india</td>\n",
              "      <td>step step guide invest share market</td>\n",
              "    </tr>\n",
              "    <tr>\n",
              "      <th>1</th>\n",
              "      <td>What is the story of Kohinoor (Koh-i-Noor) Dia...</td>\n",
              "      <td>What would happen if the Indian government sto...</td>\n",
              "      <td>0</td>\n",
              "      <td>story kohinoor koh noor diamond</td>\n",
              "      <td>would happen indian government stole kohinoor ...</td>\n",
              "    </tr>\n",
              "    <tr>\n",
              "      <th>2</th>\n",
              "      <td>How can I increase the speed of my internet co...</td>\n",
              "      <td>How can Internet speed be increased by hacking...</td>\n",
              "      <td>0</td>\n",
              "      <td>increase speed internet connection using vpn</td>\n",
              "      <td>internet speed increased hacking dn</td>\n",
              "    </tr>\n",
              "    <tr>\n",
              "      <th>3</th>\n",
              "      <td>Why am I mentally very lonely? How can I solve...</td>\n",
              "      <td>Find the remainder when [math]23^{24}[/math] i...</td>\n",
              "      <td>0</td>\n",
              "      <td>mentally lonely solv</td>\n",
              "      <td>find remainder math 23 24 math divided 24 23</td>\n",
              "    </tr>\n",
              "    <tr>\n",
              "      <th>4</th>\n",
              "      <td>Which one dissolve in water quikly sugar, salt...</td>\n",
              "      <td>Which fish would survive in salt water?</td>\n",
              "      <td>0</td>\n",
              "      <td>one dissolve water quikly sugar salt methane c...</td>\n",
              "      <td>fish would survive salt wat</td>\n",
              "    </tr>\n",
              "  </tbody>\n",
              "</table>\n",
              "</div>"
            ],
            "text/plain": [
              "                                           question1  \\\n",
              "0  What is the step by step guide to invest in sh...   \n",
              "1  What is the story of Kohinoor (Koh-i-Noor) Dia...   \n",
              "2  How can I increase the speed of my internet co...   \n",
              "3  Why am I mentally very lonely? How can I solve...   \n",
              "4  Which one dissolve in water quikly sugar, salt...   \n",
              "\n",
              "                                           question2  is_duplicate  \\\n",
              "0  What is the step by step guide to invest in sh...             0   \n",
              "1  What would happen if the Indian government sto...             0   \n",
              "2  How can Internet speed be increased by hacking...             0   \n",
              "3  Find the remainder when [math]23^{24}[/math] i...             0   \n",
              "4            Which fish would survive in salt water?             0   \n",
              "\n",
              "                                     question1_clean  \\\n",
              "0          step step guide invest share market india   \n",
              "1                    story kohinoor koh noor diamond   \n",
              "2       increase speed internet connection using vpn   \n",
              "3                               mentally lonely solv   \n",
              "4  one dissolve water quikly sugar salt methane c...   \n",
              "\n",
              "                                     question2_clean  \n",
              "0                step step guide invest share market  \n",
              "1  would happen indian government stole kohinoor ...  \n",
              "2                internet speed increased hacking dn  \n",
              "3       find remainder math 23 24 math divided 24 23  \n",
              "4                        fish would survive salt wat  "
            ]
          },
          "execution_count": 15,
          "metadata": {},
          "output_type": "execute_result"
        }
      ],
      "source": [
        "train_dataset.head()"
      ]
    },
    {
      "cell_type": "markdown",
      "id": "f5d056b2-b2d8-4b95-86cf-6ea80106334c",
      "metadata": {
        "id": "f5d056b2-b2d8-4b95-86cf-6ea80106334c"
      },
      "source": [
        "## Feature Extraction"
      ]
    },
    {
      "cell_type": "code",
      "execution_count": null,
      "id": "103adfd3-6aa7-417c-a776-a9aa982c18ea",
      "metadata": {
        "id": "103adfd3-6aa7-417c-a776-a9aa982c18ea"
      },
      "outputs": [],
      "source": [
        "from sklearn.feature_selection import SelectKBest\n",
        "from sklearn.feature_selection import chi2\n",
        "from sklearn.feature_selection import mutual_info_classif\n",
        "from sklearn.feature_selection import f_classif\n",
        "from sklearn.model_selection import train_test_split\n",
        "from sklearn.metrics import classification_report\n",
        "from sklearn.feature_extraction.text import TfidfVectorizer\n",
        "from sklearn.cluster import Birch\n",
        "from scipy.spatial.distance import cosine, cityblock, jaccard, canberra, euclidean, minkowski, braycurtis\n"
      ]
    },
    {
      "cell_type": "code",
      "execution_count": null,
      "id": "5338bc0f-e1ff-43ba-acef-697cc870b81b",
      "metadata": {
        "id": "5338bc0f-e1ff-43ba-acef-697cc870b81b"
      },
      "outputs": [],
      "source": [
        "import gensim\n",
        "from gensim.scripts.glove2word2vec import glove2word2vec\n",
        "from gensim.models.fasttext import load_facebook_model"
      ]
    },
    {
      "cell_type": "code",
      "execution_count": null,
      "id": "9aa61966-143f-47aa-b297-70ac051480ad",
      "metadata": {
        "id": "9aa61966-143f-47aa-b297-70ac051480ad"
      },
      "outputs": [],
      "source": [
        "SAFE_DIV = 0.0001\n",
        "NB_CORES = 10\n",
        "FREQ_UPPER_BOUND = 100\n",
        "NEIGHBOR_UPPER_BOUND = 5\n",
        "MAX_ITER = 20\n",
        "WORD2VEC_MODELS = [['GoogleNews-vectors-negative300.bin.gz',\n",
        "                   '_word2vec_googlenews', '_clean', True], ['glove.txt'\n",
        "                   , '_glove', '_clean', False]]"
      ]
    },
    {
      "cell_type": "code",
      "execution_count": null,
      "id": "c53d0f6c-dda9-440f-b7b2-976bcb266607",
      "metadata": {
        "id": "c53d0f6c-dda9-440f-b7b2-976bcb266607"
      },
      "outputs": [],
      "source": [
        "def get_nlp_features(data):\n",
        "        q1_tokens = str(data[\"question1\"]).split()\n",
        "        q2_tokens = str(data[\"question2\"]).split()\n",
        "        q1_words = set([word for word in q1_tokens if word\n",
        "                       not in stop_words])\n",
        "        q2_words = set([word for word in q2_tokens if word\n",
        "                       not in stop_words])\n",
        "        q1_stops = set([word for word in q1_tokens if word\n",
        "                       not in stop_words])\n",
        "        q2_stops = set([word for word in q2_tokens if word\n",
        "                       in stop_words])\n",
        "        common_word_count = len(q1_words.intersection(q2_words))\n",
        "        common_stop_count = len(q1_stops.intersection(q2_stops))\n",
        "        common_token_count = \\\n",
        "            len(set(q1_tokens).intersection(set(q2_tokens)))\n",
        "        data['len_q1'] = np.nan_to_num(data[\"question1\"].apply(lambda x: \\\n",
        "                len(str(x))))\n",
        "        data['len_q2'] = np.nan_to_num(data[\"question2\"].apply(lambda x: \\\n",
        "                len(str(x))))\n",
        "        data['diff_len'] = np.nan_to_num(data.len_q1 - data.len_q2)\n",
        "        data['len_char_q1'] = \\\n",
        "            np.nan_to_num(data[\"question1\"].apply(lambda x: \\\n",
        "                          len(''.join(set(str(x).replace(' ', ''))))))\n",
        "        data['len_char_q2'] = \\\n",
        "            np.nan_to_num(data[\"question2\"].apply(lambda x: \\\n",
        "                          len(''.join(set(str(x).replace(' ', ''))))))\n",
        "        data['len_word_q1'] = \\\n",
        "            np.nan_to_num(data[\"question1\"].apply(lambda x: \\\n",
        "                          len(str(x).split())))\n",
        "        data['len_word_q2'] = \\\n",
        "            np.nan_to_num(data[\"question2\"].apply(lambda x: \\\n",
        "                          len(str(x).split())))\n",
        "        data['cwc_min'] = np.nan_to_num(common_word_count\n",
        "                / (min(len(q1_words), len(q2_words)) + SAFE_DIV))\n",
        "        data['cwc_max'] = np.nan_to_num(common_word_count\n",
        "                / (max(len(q1_words), len(q2_words)) + SAFE_DIV))\n",
        "        data['csc_min'] = np.nan_to_num(common_stop_count\n",
        "                / (min(len(q1_stops), len(q2_stops)) + SAFE_DIV))\n",
        "        data['csc_max'] = np.nan_to_num(common_stop_count\n",
        "                / (max(len(q1_stops), len(q2_stops)) + SAFE_DIV))\n",
        "        data['ctc_min'] = np.nan_to_num(common_token_count\n",
        "                / (min(len(q1_tokens), len(q2_tokens)) + SAFE_DIV))\n",
        "        data['ctc_max'] = np.nan_to_num(common_token_count\n",
        "                / (max(len(q1_tokens), len(q2_tokens)) + SAFE_DIV))\n",
        "        data['last_word_eq'] = np.nan_to_num(int(q1_tokens[-1]\n",
        "                == q2_tokens[-1]))\n",
        "        data['first_word_eq'] = np.nan_to_num(int(q1_tokens[0]\n",
        "                == q2_tokens[0]))\n",
        "        data['abs_len_diff'] = np.nan_to_num(abs(len(q1_tokens)\n",
        "                - len(q2_tokens)))\n",
        "        data['mean_len'] = np.nan_to_num((len(q1_tokens)\n",
        "                + len(q2_tokens)) / 2)\n",
        "        return data"
      ]
    },
    {
      "cell_type": "code",
      "execution_count": null,
      "id": "7296c3a1-4b1d-4dc0-804c-f455729b417d",
      "metadata": {
        "id": "7296c3a1-4b1d-4dc0-804c-f455729b417d"
      },
      "outputs": [],
      "source": [
        "def get_fuzzy_features(data):\n",
        "        data['fuzz_ratio'] = np.nan_to_num(data.apply(lambda x: \\\n",
        "                fuzz.ratio(str(x['question1']), str(x['question2'])),\n",
        "                axis=1))\n",
        "        data['fuzz_partial_ratio'] = np.nan_to_num(data.apply(lambda x: \\\n",
        "                fuzz.partial_ratio(str(x['question1']),\n",
        "                str(x['question2'])), axis=1))\n",
        "        data['fuzz_partial_token_set_ratio'] = \\\n",
        "            np.nan_to_num(data.apply(lambda x: \\\n",
        "                          fuzz.partial_token_set_ratio(str(x['question1'\n",
        "                          ]), str(x['question2'])), axis=1))\n",
        "        data['fuzz_partial_token_sort_ratio'] = \\\n",
        "            np.nan_to_num(data.apply(lambda x: \\\n",
        "                          fuzz.partial_token_sort_ratio(str(x['question1'\n",
        "                          ]), str(x['question2'])), axis=1))\n",
        "        data['fuzz_token_set_ratio'] = \\\n",
        "            np.nan_to_num(data.apply(lambda x: \\\n",
        "                          fuzz.token_set_ratio(str(x['question1']),\n",
        "                          str(x['question2'])), axis=1))\n",
        "        data['fuzz_token_sort_ratio'] = \\\n",
        "            np.nan_to_num(data.apply(lambda x: \\\n",
        "                          fuzz.token_sort_ratio(str(x['question1']),\n",
        "                          str(x['question2'])), axis=1))\n",
        "        return data"
      ]
    },
    {
      "cell_type": "code",
      "execution_count": null,
      "id": "49967a84-d6ac-49b2-9629-0cec1883a77a",
      "metadata": {
        "id": "49967a84-d6ac-49b2-9629-0cec1883a77a",
        "outputId": "6e4a79bf-4dce-4507-e256-c882418b9a87"
      },
      "outputs": [
        {
          "data": {
            "text/html": [
              "<div>\n",
              "<style scoped>\n",
              "    .dataframe tbody tr th:only-of-type {\n",
              "        vertical-align: middle;\n",
              "    }\n",
              "\n",
              "    .dataframe tbody tr th {\n",
              "        vertical-align: top;\n",
              "    }\n",
              "\n",
              "    .dataframe thead th {\n",
              "        text-align: right;\n",
              "    }\n",
              "</style>\n",
              "<table border=\"1\" class=\"dataframe\">\n",
              "  <thead>\n",
              "    <tr style=\"text-align: right;\">\n",
              "      <th></th>\n",
              "      <th>question1</th>\n",
              "      <th>question2</th>\n",
              "      <th>is_duplicate</th>\n",
              "      <th>question1_clean</th>\n",
              "      <th>question2_clean</th>\n",
              "      <th>len_q1</th>\n",
              "      <th>len_q2</th>\n",
              "      <th>diff_len</th>\n",
              "      <th>len_char_q1</th>\n",
              "      <th>len_char_q2</th>\n",
              "      <th>...</th>\n",
              "      <th>cwc_min</th>\n",
              "      <th>cwc_max</th>\n",
              "      <th>csc_min</th>\n",
              "      <th>csc_max</th>\n",
              "      <th>ctc_min</th>\n",
              "      <th>ctc_max</th>\n",
              "      <th>last_word_eq</th>\n",
              "      <th>first_word_eq</th>\n",
              "      <th>abs_len_diff</th>\n",
              "      <th>mean_len</th>\n",
              "    </tr>\n",
              "  </thead>\n",
              "  <tbody>\n",
              "    <tr>\n",
              "      <th>0</th>\n",
              "      <td>What is the step by step guide to invest in sh...</td>\n",
              "      <td>What is the step by step guide to invest in sh...</td>\n",
              "      <td>0</td>\n",
              "      <td>step step guide invest share market india</td>\n",
              "      <td>step step guide invest share market</td>\n",
              "      <td>66</td>\n",
              "      <td>57</td>\n",
              "      <td>9</td>\n",
              "      <td>20</td>\n",
              "      <td>20</td>\n",
              "      <td>...</td>\n",
              "      <td>0.559321</td>\n",
              "      <td>0.549999</td>\n",
              "      <td>0.0</td>\n",
              "      <td>0.0</td>\n",
              "      <td>0.46875</td>\n",
              "      <td>0.441176</td>\n",
              "      <td>1</td>\n",
              "      <td>1</td>\n",
              "      <td>6</td>\n",
              "      <td>99.0</td>\n",
              "    </tr>\n",
              "    <tr>\n",
              "      <th>1</th>\n",
              "      <td>What is the story of Kohinoor (Koh-i-Noor) Dia...</td>\n",
              "      <td>What would happen if the Indian government sto...</td>\n",
              "      <td>0</td>\n",
              "      <td>story kohinoor koh noor diamond</td>\n",
              "      <td>would happen indian government stole kohinoor ...</td>\n",
              "      <td>51</td>\n",
              "      <td>88</td>\n",
              "      <td>-37</td>\n",
              "      <td>21</td>\n",
              "      <td>29</td>\n",
              "      <td>...</td>\n",
              "      <td>0.559321</td>\n",
              "      <td>0.549999</td>\n",
              "      <td>0.0</td>\n",
              "      <td>0.0</td>\n",
              "      <td>0.46875</td>\n",
              "      <td>0.441176</td>\n",
              "      <td>1</td>\n",
              "      <td>1</td>\n",
              "      <td>6</td>\n",
              "      <td>99.0</td>\n",
              "    </tr>\n",
              "    <tr>\n",
              "      <th>2</th>\n",
              "      <td>How can I increase the speed of my internet co...</td>\n",
              "      <td>How can Internet speed be increased by hacking...</td>\n",
              "      <td>0</td>\n",
              "      <td>increase speed internet connection using vpn</td>\n",
              "      <td>internet speed increased hacking dn</td>\n",
              "      <td>73</td>\n",
              "      <td>59</td>\n",
              "      <td>14</td>\n",
              "      <td>25</td>\n",
              "      <td>24</td>\n",
              "      <td>...</td>\n",
              "      <td>0.559321</td>\n",
              "      <td>0.549999</td>\n",
              "      <td>0.0</td>\n",
              "      <td>0.0</td>\n",
              "      <td>0.46875</td>\n",
              "      <td>0.441176</td>\n",
              "      <td>1</td>\n",
              "      <td>1</td>\n",
              "      <td>6</td>\n",
              "      <td>99.0</td>\n",
              "    </tr>\n",
              "    <tr>\n",
              "      <th>3</th>\n",
              "      <td>Why am I mentally very lonely? How can I solve...</td>\n",
              "      <td>Find the remainder when [math]23^{24}[/math] i...</td>\n",
              "      <td>0</td>\n",
              "      <td>mentally lonely solv</td>\n",
              "      <td>find remainder math 23 24 math divided 24 23</td>\n",
              "      <td>50</td>\n",
              "      <td>65</td>\n",
              "      <td>-15</td>\n",
              "      <td>19</td>\n",
              "      <td>26</td>\n",
              "      <td>...</td>\n",
              "      <td>0.559321</td>\n",
              "      <td>0.549999</td>\n",
              "      <td>0.0</td>\n",
              "      <td>0.0</td>\n",
              "      <td>0.46875</td>\n",
              "      <td>0.441176</td>\n",
              "      <td>1</td>\n",
              "      <td>1</td>\n",
              "      <td>6</td>\n",
              "      <td>99.0</td>\n",
              "    </tr>\n",
              "    <tr>\n",
              "      <th>4</th>\n",
              "      <td>Which one dissolve in water quikly sugar, salt...</td>\n",
              "      <td>Which fish would survive in salt water?</td>\n",
              "      <td>0</td>\n",
              "      <td>one dissolve water quikly sugar salt methane c...</td>\n",
              "      <td>fish would survive salt wat</td>\n",
              "      <td>76</td>\n",
              "      <td>39</td>\n",
              "      <td>37</td>\n",
              "      <td>25</td>\n",
              "      <td>18</td>\n",
              "      <td>...</td>\n",
              "      <td>0.559321</td>\n",
              "      <td>0.549999</td>\n",
              "      <td>0.0</td>\n",
              "      <td>0.0</td>\n",
              "      <td>0.46875</td>\n",
              "      <td>0.441176</td>\n",
              "      <td>1</td>\n",
              "      <td>1</td>\n",
              "      <td>6</td>\n",
              "      <td>99.0</td>\n",
              "    </tr>\n",
              "  </tbody>\n",
              "</table>\n",
              "<p>5 rows × 22 columns</p>\n",
              "</div>"
            ],
            "text/plain": [
              "                                           question1  \\\n",
              "0  What is the step by step guide to invest in sh...   \n",
              "1  What is the story of Kohinoor (Koh-i-Noor) Dia...   \n",
              "2  How can I increase the speed of my internet co...   \n",
              "3  Why am I mentally very lonely? How can I solve...   \n",
              "4  Which one dissolve in water quikly sugar, salt...   \n",
              "\n",
              "                                           question2  is_duplicate  \\\n",
              "0  What is the step by step guide to invest in sh...             0   \n",
              "1  What would happen if the Indian government sto...             0   \n",
              "2  How can Internet speed be increased by hacking...             0   \n",
              "3  Find the remainder when [math]23^{24}[/math] i...             0   \n",
              "4            Which fish would survive in salt water?             0   \n",
              "\n",
              "                                     question1_clean  \\\n",
              "0          step step guide invest share market india   \n",
              "1                    story kohinoor koh noor diamond   \n",
              "2       increase speed internet connection using vpn   \n",
              "3                               mentally lonely solv   \n",
              "4  one dissolve water quikly sugar salt methane c...   \n",
              "\n",
              "                                     question2_clean  len_q1  len_q2  \\\n",
              "0                step step guide invest share market      66      57   \n",
              "1  would happen indian government stole kohinoor ...      51      88   \n",
              "2                internet speed increased hacking dn      73      59   \n",
              "3       find remainder math 23 24 math divided 24 23      50      65   \n",
              "4                        fish would survive salt wat      76      39   \n",
              "\n",
              "   diff_len  len_char_q1  len_char_q2  ...   cwc_min   cwc_max  csc_min  \\\n",
              "0         9           20           20  ...  0.559321  0.549999      0.0   \n",
              "1       -37           21           29  ...  0.559321  0.549999      0.0   \n",
              "2        14           25           24  ...  0.559321  0.549999      0.0   \n",
              "3       -15           19           26  ...  0.559321  0.549999      0.0   \n",
              "4        37           25           18  ...  0.559321  0.549999      0.0   \n",
              "\n",
              "   csc_max  ctc_min   ctc_max  last_word_eq  first_word_eq  abs_len_diff  \\\n",
              "0      0.0  0.46875  0.441176             1              1             6   \n",
              "1      0.0  0.46875  0.441176             1              1             6   \n",
              "2      0.0  0.46875  0.441176             1              1             6   \n",
              "3      0.0  0.46875  0.441176             1              1             6   \n",
              "4      0.0  0.46875  0.441176             1              1             6   \n",
              "\n",
              "   mean_len  \n",
              "0      99.0  \n",
              "1      99.0  \n",
              "2      99.0  \n",
              "3      99.0  \n",
              "4      99.0  \n",
              "\n",
              "[5 rows x 22 columns]"
            ]
          },
          "execution_count": 22,
          "metadata": {},
          "output_type": "execute_result"
        }
      ],
      "source": [
        "train_dataset = get_nlp_features(train_dataset)\n",
        "train_dataset.head()"
      ]
    },
    {
      "cell_type": "markdown",
      "id": "5ace1f29-3ff1-43a9-97fd-4e1b6526a14f",
      "metadata": {
        "id": "5ace1f29-3ff1-43a9-97fd-4e1b6526a14f"
      },
      "source": [
        "## Model training"
      ]
    },
    {
      "cell_type": "code",
      "execution_count": null,
      "id": "212db99c-5d02-42ea-8981-f63a997f79f0",
      "metadata": {
        "id": "212db99c-5d02-42ea-8981-f63a997f79f0",
        "outputId": "ea5544d6-3a27-45a3-ca2c-d32170826784"
      },
      "outputs": [
        {
          "name": "stdout",
          "output_type": "stream",
          "text": [
            "Collecting xgboost\n",
            "  Downloading xgboost-2.0.2-py3-none-macosx_10_15_x86_64.macosx_11_0_x86_64.macosx_12_0_x86_64.whl (2.2 MB)\n",
            "\u001b[K     |████████████████████████████████| 2.2 MB 4.3 MB/s eta 0:00:01\n",
            "\u001b[?25hRequirement already satisfied: scipy in /Library/Frameworks/Python.framework/Versions/3.9/lib/python3.9/site-packages (from xgboost) (1.11.3)\n",
            "Requirement already satisfied: numpy in /Library/Frameworks/Python.framework/Versions/3.9/lib/python3.9/site-packages (from xgboost) (1.25.2)\n",
            "Installing collected packages: xgboost\n",
            "Successfully installed xgboost-2.0.2\n",
            "\u001b[33mWARNING: You are using pip version 20.2.3; however, version 23.3.1 is available.\n",
            "You should consider upgrading via the '/Library/Frameworks/Python.framework/Versions/3.9/bin/python3.9 -m pip install --upgrade pip' command.\u001b[0m\n"
          ]
        }
      ],
      "source": [
        "!pip3 install xgboost"
      ]
    },
    {
      "cell_type": "code",
      "execution_count": null,
      "id": "3fe45425-4ccb-41be-a365-c34f55f7a1d7",
      "metadata": {
        "id": "3fe45425-4ccb-41be-a365-c34f55f7a1d7"
      },
      "outputs": [],
      "source": [
        "from xgboost import XGBClassifier\n",
        "from sklearn.model_selection import train_test_split\n",
        "from sklearn.metrics import classification_report"
      ]
    },
    {
      "cell_type": "code",
      "execution_count": null,
      "id": "a4f57923-29e5-4138-8b40-a6cefb4fa284",
      "metadata": {
        "id": "a4f57923-29e5-4138-8b40-a6cefb4fa284"
      },
      "outputs": [],
      "source": [
        "model = XGBClassifier( max_depth=80, n_estimators=100,learning_rate=0.1, colsample_bytree=.7,gamma=0, reg_alpha=4,objective='binary:logistic',eta=0.3,silent=1,verbosity=0)"
      ]
    },
    {
      "cell_type": "code",
      "execution_count": null,
      "id": "70500406-210f-4742-a4d4-a77b133ea4fa",
      "metadata": {
        "id": "70500406-210f-4742-a4d4-a77b133ea4fa",
        "outputId": "df9f202f-3a08-4e08-f37b-5b3651774973"
      },
      "outputs": [
        {
          "data": {
            "text/html": [
              "<div>\n",
              "<style scoped>\n",
              "    .dataframe tbody tr th:only-of-type {\n",
              "        vertical-align: middle;\n",
              "    }\n",
              "\n",
              "    .dataframe tbody tr th {\n",
              "        vertical-align: top;\n",
              "    }\n",
              "\n",
              "    .dataframe thead th {\n",
              "        text-align: right;\n",
              "    }\n",
              "</style>\n",
              "<table border=\"1\" class=\"dataframe\">\n",
              "  <thead>\n",
              "    <tr style=\"text-align: right;\">\n",
              "      <th></th>\n",
              "      <th>question1</th>\n",
              "      <th>question2</th>\n",
              "      <th>is_duplicate</th>\n",
              "      <th>question1_clean</th>\n",
              "      <th>question2_clean</th>\n",
              "      <th>len_q1</th>\n",
              "      <th>len_q2</th>\n",
              "      <th>diff_len</th>\n",
              "      <th>len_char_q1</th>\n",
              "      <th>len_char_q2</th>\n",
              "      <th>...</th>\n",
              "      <th>cwc_max</th>\n",
              "      <th>csc_min</th>\n",
              "      <th>csc_max</th>\n",
              "      <th>ctc_min</th>\n",
              "      <th>ctc_max</th>\n",
              "      <th>last_word_eq</th>\n",
              "      <th>first_word_eq</th>\n",
              "      <th>abs_len_diff</th>\n",
              "      <th>mean_len</th>\n",
              "      <th>fuzz_ratio</th>\n",
              "    </tr>\n",
              "  </thead>\n",
              "  <tbody>\n",
              "    <tr>\n",
              "      <th>0</th>\n",
              "      <td>What is the step by step guide to invest in sh...</td>\n",
              "      <td>What is the step by step guide to invest in sh...</td>\n",
              "      <td>0</td>\n",
              "      <td>step step guide invest share market india</td>\n",
              "      <td>step step guide invest share market</td>\n",
              "      <td>66</td>\n",
              "      <td>57</td>\n",
              "      <td>9</td>\n",
              "      <td>20</td>\n",
              "      <td>20</td>\n",
              "      <td>...</td>\n",
              "      <td>0.549999</td>\n",
              "      <td>0.0</td>\n",
              "      <td>0.0</td>\n",
              "      <td>0.46875</td>\n",
              "      <td>0.441176</td>\n",
              "      <td>1</td>\n",
              "      <td>1</td>\n",
              "      <td>6</td>\n",
              "      <td>99.0</td>\n",
              "      <td>93</td>\n",
              "    </tr>\n",
              "    <tr>\n",
              "      <th>1</th>\n",
              "      <td>What is the story of Kohinoor (Koh-i-Noor) Dia...</td>\n",
              "      <td>What would happen if the Indian government sto...</td>\n",
              "      <td>0</td>\n",
              "      <td>story kohinoor koh noor diamond</td>\n",
              "      <td>would happen indian government stole kohinoor ...</td>\n",
              "      <td>51</td>\n",
              "      <td>88</td>\n",
              "      <td>-37</td>\n",
              "      <td>21</td>\n",
              "      <td>29</td>\n",
              "      <td>...</td>\n",
              "      <td>0.549999</td>\n",
              "      <td>0.0</td>\n",
              "      <td>0.0</td>\n",
              "      <td>0.46875</td>\n",
              "      <td>0.441176</td>\n",
              "      <td>1</td>\n",
              "      <td>1</td>\n",
              "      <td>6</td>\n",
              "      <td>99.0</td>\n",
              "      <td>65</td>\n",
              "    </tr>\n",
              "    <tr>\n",
              "      <th>2</th>\n",
              "      <td>How can I increase the speed of my internet co...</td>\n",
              "      <td>How can Internet speed be increased by hacking...</td>\n",
              "      <td>0</td>\n",
              "      <td>increase speed internet connection using vpn</td>\n",
              "      <td>internet speed increased hacking dn</td>\n",
              "      <td>73</td>\n",
              "      <td>59</td>\n",
              "      <td>14</td>\n",
              "      <td>25</td>\n",
              "      <td>24</td>\n",
              "      <td>...</td>\n",
              "      <td>0.549999</td>\n",
              "      <td>0.0</td>\n",
              "      <td>0.0</td>\n",
              "      <td>0.46875</td>\n",
              "      <td>0.441176</td>\n",
              "      <td>1</td>\n",
              "      <td>1</td>\n",
              "      <td>6</td>\n",
              "      <td>99.0</td>\n",
              "      <td>45</td>\n",
              "    </tr>\n",
              "    <tr>\n",
              "      <th>3</th>\n",
              "      <td>Why am I mentally very lonely? How can I solve...</td>\n",
              "      <td>Find the remainder when [math]23^{24}[/math] i...</td>\n",
              "      <td>0</td>\n",
              "      <td>mentally lonely solv</td>\n",
              "      <td>find remainder math 23 24 math divided 24 23</td>\n",
              "      <td>50</td>\n",
              "      <td>65</td>\n",
              "      <td>-15</td>\n",
              "      <td>19</td>\n",
              "      <td>26</td>\n",
              "      <td>...</td>\n",
              "      <td>0.549999</td>\n",
              "      <td>0.0</td>\n",
              "      <td>0.0</td>\n",
              "      <td>0.46875</td>\n",
              "      <td>0.441176</td>\n",
              "      <td>1</td>\n",
              "      <td>1</td>\n",
              "      <td>6</td>\n",
              "      <td>99.0</td>\n",
              "      <td>7</td>\n",
              "    </tr>\n",
              "    <tr>\n",
              "      <th>4</th>\n",
              "      <td>Which one dissolve in water quikly sugar, salt...</td>\n",
              "      <td>Which fish would survive in salt water?</td>\n",
              "      <td>0</td>\n",
              "      <td>one dissolve water quikly sugar salt methane c...</td>\n",
              "      <td>fish would survive salt wat</td>\n",
              "      <td>76</td>\n",
              "      <td>39</td>\n",
              "      <td>37</td>\n",
              "      <td>25</td>\n",
              "      <td>18</td>\n",
              "      <td>...</td>\n",
              "      <td>0.549999</td>\n",
              "      <td>0.0</td>\n",
              "      <td>0.0</td>\n",
              "      <td>0.46875</td>\n",
              "      <td>0.441176</td>\n",
              "      <td>1</td>\n",
              "      <td>1</td>\n",
              "      <td>6</td>\n",
              "      <td>99.0</td>\n",
              "      <td>37</td>\n",
              "    </tr>\n",
              "  </tbody>\n",
              "</table>\n",
              "<p>5 rows × 23 columns</p>\n",
              "</div>"
            ],
            "text/plain": [
              "                                           question1  \\\n",
              "0  What is the step by step guide to invest in sh...   \n",
              "1  What is the story of Kohinoor (Koh-i-Noor) Dia...   \n",
              "2  How can I increase the speed of my internet co...   \n",
              "3  Why am I mentally very lonely? How can I solve...   \n",
              "4  Which one dissolve in water quikly sugar, salt...   \n",
              "\n",
              "                                           question2  is_duplicate  \\\n",
              "0  What is the step by step guide to invest in sh...             0   \n",
              "1  What would happen if the Indian government sto...             0   \n",
              "2  How can Internet speed be increased by hacking...             0   \n",
              "3  Find the remainder when [math]23^{24}[/math] i...             0   \n",
              "4            Which fish would survive in salt water?             0   \n",
              "\n",
              "                                     question1_clean  \\\n",
              "0          step step guide invest share market india   \n",
              "1                    story kohinoor koh noor diamond   \n",
              "2       increase speed internet connection using vpn   \n",
              "3                               mentally lonely solv   \n",
              "4  one dissolve water quikly sugar salt methane c...   \n",
              "\n",
              "                                     question2_clean  len_q1  len_q2  \\\n",
              "0                step step guide invest share market      66      57   \n",
              "1  would happen indian government stole kohinoor ...      51      88   \n",
              "2                internet speed increased hacking dn      73      59   \n",
              "3       find remainder math 23 24 math divided 24 23      50      65   \n",
              "4                        fish would survive salt wat      76      39   \n",
              "\n",
              "   diff_len  len_char_q1  len_char_q2  ...   cwc_max  csc_min  csc_max  \\\n",
              "0         9           20           20  ...  0.549999      0.0      0.0   \n",
              "1       -37           21           29  ...  0.549999      0.0      0.0   \n",
              "2        14           25           24  ...  0.549999      0.0      0.0   \n",
              "3       -15           19           26  ...  0.549999      0.0      0.0   \n",
              "4        37           25           18  ...  0.549999      0.0      0.0   \n",
              "\n",
              "   ctc_min   ctc_max  last_word_eq  first_word_eq  abs_len_diff  mean_len  \\\n",
              "0  0.46875  0.441176             1              1             6      99.0   \n",
              "1  0.46875  0.441176             1              1             6      99.0   \n",
              "2  0.46875  0.441176             1              1             6      99.0   \n",
              "3  0.46875  0.441176             1              1             6      99.0   \n",
              "4  0.46875  0.441176             1              1             6      99.0   \n",
              "\n",
              "   fuzz_ratio  \n",
              "0          93  \n",
              "1          65  \n",
              "2          45  \n",
              "3           7  \n",
              "4          37  \n",
              "\n",
              "[5 rows x 23 columns]"
            ]
          },
          "execution_count": 26,
          "metadata": {},
          "output_type": "execute_result"
        }
      ],
      "source": [
        "train_dataset.head()"
      ]
    },
    {
      "cell_type": "code",
      "execution_count": null,
      "id": "57dfa778-2dc1-412a-876a-6f0ebab0f497",
      "metadata": {
        "id": "57dfa778-2dc1-412a-876a-6f0ebab0f497",
        "outputId": "4efbfd34-3552-44d7-d67b-8c54afd1e863"
      },
      "outputs": [
        {
          "name": "stdout",
          "output_type": "stream",
          "text": [
            "                     precision            recall               f1-score             support             \n",
            "0                    0.7699999999999999   0.79                 0.7800000000000001   25513.0             \n",
            "1                    0.62                 0.5999999999999999   0.6100000000000001   14916.0             \n",
            "Accuracy                                                       0.7200000286102295   40429.0             \n",
            "macro avg            0.7000000000000001   0.6899999999999998   0.6899999999999998   40429.0             \n",
            "weighted avg         0.7199999999999999   0.7199999999999999   0.7199999999999999   40429.0             \n"
          ]
        }
      ],
      "source": [
        "\n",
        "def preprocess(train_dataset):\n",
        "    train_dataset.drop(['question1', 'question2', 'question1_clean', 'question2_clean'], axis=1, inplace=True)\n",
        "    X = train_dataset.loc[:, train_dataset.columns != 'is_duplicate']\n",
        "    Y = np.array(train_dataset.loc[:, train_dataset.columns == 'is_duplicate']).ravel()\n",
        "    return X, Y\n",
        "\n",
        "def report_average(reports_list, iter):\n",
        "    metrics_0 = [0] * 4\n",
        "    metrics_1 = [0] * 4\n",
        "    accuracy = [0] * 2\n",
        "    macro = [0] * 4\n",
        "    weighted = [0] * 4\n",
        "    for report in reports_list:\n",
        "        splited = [' '.join(x.split()) for x in report.split('\\n\\n')]\n",
        "        metrics = np.array(splited[1].split(' '))\n",
        "        metrics_0 = metrics_0 + np.nan_to_num(np.array([metrics[1], metrics[2], metrics[3], metrics[4]]).astype(float))\n",
        "        metrics_1 = metrics_1 + np.nan_to_num(np.array([metrics[6], metrics[7], metrics[8], metrics[9]]).astype(float))\n",
        "        totals = np.array([x for x in splited[2].split(' ')])\n",
        "        accuracy = accuracy + np.nan_to_num(np.array([totals[1], totals[2]]).astype(np.float32))\n",
        "        macro = macro + np.nan_to_num(np.array([totals[5], totals[6], totals[7], totals[8]]).astype(float))\n",
        "        weighted = weighted + np.nan_to_num(np.array([totals[11], totals[12], totals[13], totals[14]]).astype(float))\n",
        "    metrics_0 = metrics_0 / iter\n",
        "    metrics_1 = metrics_1 / iter\n",
        "    accuracy = accuracy / iter\n",
        "    macro = macro / iter\n",
        "    weighted = weighted / iter\n",
        "    header = [x for x in splited[0].split(' ')]\n",
        "    print('{:<20} {:<20} {:<20} {:<20} {:<20}'.format('', header[0], header[1], header[2], header[3]))\n",
        "    print('{:<20} {:<20} {:<20} {:<20} {:<20}'.format('0', metrics_0[0], metrics_0[1], metrics_0[2], metrics_0[3]))\n",
        "    print('{:<20} {:<20} {:<20} {:<20} {:<20}'.format('1', metrics_1[0], metrics_1[1], metrics_1[2], metrics_1[3]))\n",
        "    print('{:<20} {:<20} {:<20} {:<20} {:<20}'.format('Accuracy', '', '', accuracy[0], accuracy[1]))\n",
        "    print('{:<20} {:<20} {:<20} {:<20} {:<20}'.format('macro avg', macro[0], macro[1], macro[2], macro[3]))\n",
        "    print('{:<20} {:<20} {:<20} {:<20} {:<20}'.format('weighted avg', weighted[0], weighted[1], weighted[2], weighted[3]))\n",
        "\n",
        "def train_models(train_dataset, iter):\n",
        "    output_models = []\n",
        "    X, Y = preprocess(train_dataset)\n",
        "    X_train, X_test, y_train, y_test = train_test_split(X, Y, test_size=0.1)\n",
        "\n",
        "    classif_reports = []\n",
        "    for i in range(iter):\n",
        "        model_out = model.fit(X_train, y_train)\n",
        "        y_pred = model_out.predict(X_test)\n",
        "        classif_reports.append(classification_report(y_test, y_pred))\n",
        "    report_average(classif_reports, iter)\n",
        "\n",
        "    return model_out\n",
        "\n",
        "model = train_models(train_dataset, 10)\n"
      ]
    }
  ],
  "metadata": {
    "kernelspec": {
      "display_name": "Python 3 (ipykernel)",
      "language": "python",
      "name": "python3"
    },
    "language_info": {
      "codemirror_mode": {
        "name": "ipython",
        "version": 3
      },
      "file_extension": ".py",
      "mimetype": "text/x-python",
      "name": "python",
      "nbconvert_exporter": "python",
      "pygments_lexer": "ipython3",
      "version": "3.9.0"
    },
    "colab": {
      "provenance": []
    }
  },
  "nbformat": 4,
  "nbformat_minor": 5
}