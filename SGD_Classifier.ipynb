{
  "nbformat": 4,
  "nbformat_minor": 0,
  "metadata": {
    "colab": {
      "provenance": []
    },
    "kernelspec": {
      "name": "python3",
      "display_name": "Python 3"
    },
    "language_info": {
      "name": "python"
    }
  },
  "cells": [
    {
      "cell_type": "code",
      "execution_count": null,
      "metadata": {
        "id": "OXeyHKTjBMgy",
        "colab": {
          "base_uri": "https://localhost:8080/"
        },
        "outputId": "4a138d6d-4e31-42ae-8d5d-0d13fb6b5721"
      },
      "outputs": [
        {
          "output_type": "stream",
          "name": "stdout",
          "text": [
            "Collecting sentence-transformers\n",
            "  Downloading sentence-transformers-2.2.2.tar.gz (85 kB)\n",
            "\u001b[2K     \u001b[90m━━━━━━━━━━━━━━━━━━━━━━━━━━━━━━━━━━━━━━━━\u001b[0m \u001b[32m86.0/86.0 kB\u001b[0m \u001b[31m2.0 MB/s\u001b[0m eta \u001b[36m0:00:00\u001b[0m\n",
            "\u001b[?25h  Preparing metadata (setup.py) ... \u001b[?25l\u001b[?25hdone\n",
            "Requirement already satisfied: transformers<5.0.0,>=4.6.0 in /usr/local/lib/python3.10/dist-packages (from sentence-transformers) (4.35.2)\n",
            "Requirement already satisfied: tqdm in /usr/local/lib/python3.10/dist-packages (from sentence-transformers) (4.66.1)\n",
            "Requirement already satisfied: torch>=1.6.0 in /usr/local/lib/python3.10/dist-packages (from sentence-transformers) (2.1.0+cu118)\n",
            "Requirement already satisfied: torchvision in /usr/local/lib/python3.10/dist-packages (from sentence-transformers) (0.16.0+cu118)\n",
            "Requirement already satisfied: numpy in /usr/local/lib/python3.10/dist-packages (from sentence-transformers) (1.23.5)\n",
            "Requirement already satisfied: scikit-learn in /usr/local/lib/python3.10/dist-packages (from sentence-transformers) (1.2.2)\n",
            "Requirement already satisfied: scipy in /usr/local/lib/python3.10/dist-packages (from sentence-transformers) (1.11.3)\n",
            "Requirement already satisfied: nltk in /usr/local/lib/python3.10/dist-packages (from sentence-transformers) (3.8.1)\n",
            "Collecting sentencepiece (from sentence-transformers)\n",
            "  Downloading sentencepiece-0.1.99-cp310-cp310-manylinux_2_17_x86_64.manylinux2014_x86_64.whl (1.3 MB)\n",
            "\u001b[2K     \u001b[90m━━━━━━━━━━━━━━━━━━━━━━━━━━━━━━━━━━━━━━━━\u001b[0m \u001b[32m1.3/1.3 MB\u001b[0m \u001b[31m20.7 MB/s\u001b[0m eta \u001b[36m0:00:00\u001b[0m\n",
            "\u001b[?25hRequirement already satisfied: huggingface-hub>=0.4.0 in /usr/local/lib/python3.10/dist-packages (from sentence-transformers) (0.19.4)\n",
            "Requirement already satisfied: filelock in /usr/local/lib/python3.10/dist-packages (from huggingface-hub>=0.4.0->sentence-transformers) (3.13.1)\n",
            "Requirement already satisfied: fsspec>=2023.5.0 in /usr/local/lib/python3.10/dist-packages (from huggingface-hub>=0.4.0->sentence-transformers) (2023.6.0)\n",
            "Requirement already satisfied: requests in /usr/local/lib/python3.10/dist-packages (from huggingface-hub>=0.4.0->sentence-transformers) (2.31.0)\n",
            "Requirement already satisfied: pyyaml>=5.1 in /usr/local/lib/python3.10/dist-packages (from huggingface-hub>=0.4.0->sentence-transformers) (6.0.1)\n",
            "Requirement already satisfied: typing-extensions>=3.7.4.3 in /usr/local/lib/python3.10/dist-packages (from huggingface-hub>=0.4.0->sentence-transformers) (4.5.0)\n",
            "Requirement already satisfied: packaging>=20.9 in /usr/local/lib/python3.10/dist-packages (from huggingface-hub>=0.4.0->sentence-transformers) (23.2)\n",
            "Requirement already satisfied: sympy in /usr/local/lib/python3.10/dist-packages (from torch>=1.6.0->sentence-transformers) (1.12)\n",
            "Requirement already satisfied: networkx in /usr/local/lib/python3.10/dist-packages (from torch>=1.6.0->sentence-transformers) (3.2.1)\n",
            "Requirement already satisfied: jinja2 in /usr/local/lib/python3.10/dist-packages (from torch>=1.6.0->sentence-transformers) (3.1.2)\n",
            "Requirement already satisfied: triton==2.1.0 in /usr/local/lib/python3.10/dist-packages (from torch>=1.6.0->sentence-transformers) (2.1.0)\n",
            "Requirement already satisfied: regex!=2019.12.17 in /usr/local/lib/python3.10/dist-packages (from transformers<5.0.0,>=4.6.0->sentence-transformers) (2023.6.3)\n",
            "Requirement already satisfied: tokenizers<0.19,>=0.14 in /usr/local/lib/python3.10/dist-packages (from transformers<5.0.0,>=4.6.0->sentence-transformers) (0.15.0)\n",
            "Requirement already satisfied: safetensors>=0.3.1 in /usr/local/lib/python3.10/dist-packages (from transformers<5.0.0,>=4.6.0->sentence-transformers) (0.4.0)\n",
            "Requirement already satisfied: click in /usr/local/lib/python3.10/dist-packages (from nltk->sentence-transformers) (8.1.7)\n",
            "Requirement already satisfied: joblib in /usr/local/lib/python3.10/dist-packages (from nltk->sentence-transformers) (1.3.2)\n",
            "Requirement already satisfied: threadpoolctl>=2.0.0 in /usr/local/lib/python3.10/dist-packages (from scikit-learn->sentence-transformers) (3.2.0)\n",
            "Requirement already satisfied: pillow!=8.3.*,>=5.3.0 in /usr/local/lib/python3.10/dist-packages (from torchvision->sentence-transformers) (9.4.0)\n",
            "Requirement already satisfied: MarkupSafe>=2.0 in /usr/local/lib/python3.10/dist-packages (from jinja2->torch>=1.6.0->sentence-transformers) (2.1.3)\n",
            "Requirement already satisfied: charset-normalizer<4,>=2 in /usr/local/lib/python3.10/dist-packages (from requests->huggingface-hub>=0.4.0->sentence-transformers) (3.3.2)\n",
            "Requirement already satisfied: idna<4,>=2.5 in /usr/local/lib/python3.10/dist-packages (from requests->huggingface-hub>=0.4.0->sentence-transformers) (3.4)\n",
            "Requirement already satisfied: urllib3<3,>=1.21.1 in /usr/local/lib/python3.10/dist-packages (from requests->huggingface-hub>=0.4.0->sentence-transformers) (2.0.7)\n",
            "Requirement already satisfied: certifi>=2017.4.17 in /usr/local/lib/python3.10/dist-packages (from requests->huggingface-hub>=0.4.0->sentence-transformers) (2023.7.22)\n",
            "Requirement already satisfied: mpmath>=0.19 in /usr/local/lib/python3.10/dist-packages (from sympy->torch>=1.6.0->sentence-transformers) (1.3.0)\n",
            "Building wheels for collected packages: sentence-transformers\n",
            "  Building wheel for sentence-transformers (setup.py) ... \u001b[?25l\u001b[?25hdone\n",
            "  Created wheel for sentence-transformers: filename=sentence_transformers-2.2.2-py3-none-any.whl size=125923 sha256=cc5d9b0d762eac603b1cba4b994c96e52b45e52ea0a0d6afd4d64964b45c90bf\n",
            "  Stored in directory: /root/.cache/pip/wheels/62/f2/10/1e606fd5f02395388f74e7462910fe851042f97238cbbd902f\n",
            "Successfully built sentence-transformers\n",
            "Installing collected packages: sentencepiece, sentence-transformers\n",
            "Successfully installed sentence-transformers-2.2.2 sentencepiece-0.1.99\n",
            "Requirement already satisfied: Gensim in /usr/local/lib/python3.10/dist-packages (4.3.2)\n",
            "Requirement already satisfied: numpy>=1.18.5 in /usr/local/lib/python3.10/dist-packages (from Gensim) (1.23.5)\n",
            "Requirement already satisfied: scipy>=1.7.0 in /usr/local/lib/python3.10/dist-packages (from Gensim) (1.11.3)\n",
            "Requirement already satisfied: smart-open>=1.8.1 in /usr/local/lib/python3.10/dist-packages (from Gensim) (6.4.0)\n",
            "Collecting fuzzywuzzy\n",
            "  Downloading fuzzywuzzy-0.18.0-py2.py3-none-any.whl (18 kB)\n",
            "Installing collected packages: fuzzywuzzy\n",
            "Successfully installed fuzzywuzzy-0.18.0\n",
            "Requirement already satisfied: networkx in /usr/local/lib/python3.10/dist-packages (3.2.1)\n",
            "Collecting imblearn\n",
            "  Downloading imblearn-0.0-py2.py3-none-any.whl (1.9 kB)\n",
            "Requirement already satisfied: imbalanced-learn in /usr/local/lib/python3.10/dist-packages (from imblearn) (0.10.1)\n",
            "Requirement already satisfied: numpy>=1.17.3 in /usr/local/lib/python3.10/dist-packages (from imbalanced-learn->imblearn) (1.23.5)\n",
            "Requirement already satisfied: scipy>=1.3.2 in /usr/local/lib/python3.10/dist-packages (from imbalanced-learn->imblearn) (1.11.3)\n",
            "Requirement already satisfied: scikit-learn>=1.0.2 in /usr/local/lib/python3.10/dist-packages (from imbalanced-learn->imblearn) (1.2.2)\n",
            "Requirement already satisfied: joblib>=1.1.1 in /usr/local/lib/python3.10/dist-packages (from imbalanced-learn->imblearn) (1.3.2)\n",
            "Requirement already satisfied: threadpoolctl>=2.0.0 in /usr/local/lib/python3.10/dist-packages (from imbalanced-learn->imblearn) (3.2.0)\n",
            "Installing collected packages: imblearn\n",
            "Successfully installed imblearn-0.0\n"
          ]
        }
      ],
      "source": [
        "!pip install -U sentence-transformers\n",
        "!pip install --upgrade Gensim\n",
        "!pip install fuzzywuzzy\n",
        "!pip install --upgrade networkx\n",
        "!pip install imblearn\n",
        "exit()"
      ]
    },
    {
      "cell_type": "code",
      "source": [
        "# !wget -c \"https://s3.amazonaws.com/dl4j-distribution/GoogleNews-vectors-negative300.bin.gz\"\n",
        "# !wget -c \"http://nlp.stanford.edu/data/glove.twitter.27B.zip\"\n",
        "# !wget -c \"https://dl.fbaipublicfiles.com/fasttext/vectors-crawl/cc.en.300.bin.gz\"\n",
        "# !unzip -o glove.twitter.27B.zip"
      ],
      "metadata": {
        "id": "tyGZNNFTYzs3"
      },
      "execution_count": null,
      "outputs": []
    },
    {
      "cell_type": "code",
      "source": [
        "# !wget -c \"https://s3.amazonaws.com/dl4j-distribution/GoogleNews-vectors-negative300.bin.gz\""
      ],
      "metadata": {
        "id": "MRCtXKL_cLjo"
      },
      "execution_count": null,
      "outputs": []
    },
    {
      "cell_type": "code",
      "source": [
        "import pandas as pd\n",
        "import numpy as np\n",
        "import scipy\n",
        "import re\n",
        "import hashlib #for hashing\n",
        "#from fuzzywuzzy import fuzz #for similarity bw 2 strings\n",
        "from IPython.display import display #interactive python -> display?\n",
        "from collections import defaultdict\n",
        "from matplotlib import pyplot\n",
        "import networkx as nx #to study  complex networks\n",
        "import time\n",
        "import sys\n",
        "from functools import reduce\n",
        "\n",
        "import nltk\n",
        "from nltk.corpus import stopwords\n",
        "from nltk import word_tokenize\n",
        "from nltk.stem import SnowballStemmer\n",
        "\n",
        "nltk.download('stopwords')\n",
        "nltk.download('punkt')"
      ],
      "metadata": {
        "colab": {
          "base_uri": "https://localhost:8080/"
        },
        "id": "haallNfuMKkT",
        "outputId": "bc57bacc-53fd-4d23-ba25-0174f830ccf3"
      },
      "execution_count": null,
      "outputs": [
        {
          "output_type": "stream",
          "name": "stderr",
          "text": [
            "[nltk_data] Downloading package stopwords to /root/nltk_data...\n",
            "[nltk_data]   Unzipping corpora/stopwords.zip.\n",
            "[nltk_data] Downloading package punkt to /root/nltk_data...\n",
            "[nltk_data]   Unzipping tokenizers/punkt.zip.\n"
          ]
        },
        {
          "output_type": "execute_result",
          "data": {
            "text/plain": [
              "True"
            ]
          },
          "metadata": {},
          "execution_count": 3
        }
      ]
    },
    {
      "cell_type": "code",
      "source": [
        "import matplotlib.pyplot as plt\n",
        "import seaborn as sns\n",
        "Quora = pd.read_csv('questions.csv')\n",
        "temp = Quora.is_duplicate.value_counts()\n",
        "df_class = pd.DataFrame({'labels': temp.index,\n",
        "                   'values': temp.values/len(Quora)})\n",
        "plt.figure(figsize = (4,4))\n",
        "plt.title('defaut')\n",
        "sns.set_color_codes(\"pastel\")\n",
        "sns.barplot(x = 'labels', y=\"C\", data=df_class)\n",
        "locs, labels = plt.xticks()\n",
        "plt.show()"
      ],
      "metadata": {
        "colab": {
          "base_uri": "https://localhost:8080/",
          "height": 410
        },
        "id": "U8AqMv_ji3HK",
        "outputId": "03a30bb6-561a-4aba-f3b1-244dced64fd4"
      },
      "execution_count": null,
      "outputs": [
        {
          "output_type": "display_data",
          "data": {
            "text/plain": [
              "<Figure size 400x400 with 1 Axes>"
            ],
            "image/png": "[encoded data removed]"
          },
          "metadata": {}
        }
      ]
    },
    {
      "cell_type": "code",
      "source": [
        "lab_count=Quora.groupby('is_duplicate')['id'].count()\n",
        "lab_count"
      ],
      "metadata": {
        "colab": {
          "base_uri": "https://localhost:8080/"
        },
        "id": "zOiqQUnRkETx",
        "outputId": "cbd9bee4-53c1-4037-e0c4-c6266c6abd89"
      },
      "execution_count": null,
      "outputs": [
        {
          "output_type": "execute_result",
          "data": {
            "text/plain": [
              "is_duplicate\n",
              "0    255045\n",
              "1    149306\n",
              "Name: id, dtype: int64"
            ]
          },
          "metadata": {},
          "execution_count": 14
        }
      ]
    },
    {
      "cell_type": "code",
      "source": [
        "plt.bar([\"0:Not-duplicate\",\"1:Duplicate\"],lab_count)\n",
        "plt.xlabel(\"Label\")\n",
        "plt.ylabel(\"Count\")\n",
        "plt.title(\"Count of duplicate and distinct question pairs\")\n",
        "plt.savefig(\"label_cnt\")"
      ],
      "metadata": {
        "colab": {
          "base_uri": "https://localhost:8080/",
          "height": 472
        },
        "id": "LyF-os3PkiSP",
        "outputId": "b8704a5d-7444-43f2-9f0f-a7ab26fbc332"
      },
      "execution_count": null,
      "outputs": [
        {
          "output_type": "display_data",
          "data": {
            "text/plain": [
              "<Figure size 640x480 with 1 Axes>"
            ],
            "image/png": "[encoded data removed]"
          },
          "metadata": {}
        }
      ]
    },
    {
      "cell_type": "code",
      "source": [
        "Quora.isna().sum()"
      ],
      "metadata": {
        "id": "IajjEpWBnsUE",
        "outputId": "c4e9fb86-5f87-437a-9ad0-bac96226bb90",
        "colab": {
          "base_uri": "https://localhost:8080/"
        }
      },
      "execution_count": null,
      "outputs": [
        {
          "output_type": "execute_result",
          "data": {
            "text/plain": [
              "id              0\n",
              "qid1            0\n",
              "qid2            0\n",
              "question1       1\n",
              "question2       2\n",
              "is_duplicate    0\n",
              "dtype: int64"
            ]
          },
          "metadata": {},
          "execution_count": 25
        }
      ]
    },
    {
      "cell_type": "code",
      "source": [
        "train_df = pd.read_csv('train.csv').dropna(how='any').reset_index(drop=True)\n",
        "test_df = pd.read_csv('test.csv').dropna(how='any').reset_index(drop=True)"
      ],
      "metadata": {
        "id": "k2vSOpRRMJtM"
      },
      "execution_count": null,
      "outputs": []
    },
    {
      "cell_type": "code",
      "source": [
        "train_df.head()"
      ],
      "metadata": {
        "colab": {
          "base_uri": "https://localhost:8080/",
          "height": 206
        },
        "id": "7hwdzYHVBuDD",
        "outputId": "ef55f02b-a976-43e1-fdb8-2586e06ad195"
      },
      "execution_count": null,
      "outputs": [
        {
          "output_type": "execute_result",
          "data": {
            "text/plain": [
              "       id    qid1    qid2                                          question1  \\\n",
              "0  210774  415740  415741  What is the United Airlines reservations numbe...   \n",
              "1   16405   32741   32742                     How you can improve your life?   \n",
              "2   44371   88361   88362  Can energy be converted back into mass? Is it ...   \n",
              "3  275215  541157  541158         What are some good virtual assistant bots?   \n",
              "4   33397   66562   66563  Does India have the technical capability to de...   \n",
              "\n",
              "                                           question2  is_duplicate  \n",
              "0  What are the details of the United Airline 086...             0  \n",
              "1         What is the best way to improve your life?             1  \n",
              "2        Is it possible to convert energy into mass?             1  \n",
              "3  What is General Catalyst looking for in compan...             0  \n",
              "4  What place in India are BrahMos missiles produ...             0  "
            ],
            "text/html": [
              "\n",
              "  <div id=\"df-67b99b8e-4ca7-4081-995a-cee83712807c\" class=\"colab-df-container\">\n",
              "    <div>\n",
              "<style scoped>\n",
              "    .dataframe tbody tr th:only-of-type {\n",
              "        vertical-align: middle;\n",
              "    }\n",
              "\n",
              "    .dataframe tbody tr th {\n",
              "        vertical-align: top;\n",
              "    }\n",
              "\n",
              "    .dataframe thead th {\n",
              "        text-align: right;\n",
              "    }\n",
              "</style>\n",
              "<table border=\"1\" class=\"dataframe\">\n",
              "  <thead>\n",
              "    <tr style=\"text-align: right;\">\n",
              "      <th></th>\n",
              "      <th>id</th>\n",
              "      <th>qid1</th>\n",
              "      <th>qid2</th>\n",
              "      <th>question1</th>\n",
              "      <th>question2</th>\n",
              "      <th>is_duplicate</th>\n",
              "    </tr>\n",
              "  </thead>\n",
              "  <tbody>\n",
              "    <tr>\n",
              "      <th>0</th>\n",
              "      <td>210774</td>\n",
              "      <td>415740</td>\n",
              "      <td>415741</td>\n",
              "      <td>What is the United Airlines reservations numbe...</td>\n",
              "      <td>What are the details of the United Airline 086...</td>\n",
              "      <td>0</td>\n",
              "    </tr>\n",
              "    <tr>\n",
              "      <th>1</th>\n",
              "      <td>16405</td>\n",
              "      <td>32741</td>\n",
              "      <td>32742</td>\n",
              "      <td>How you can improve your life?</td>\n",
              "      <td>What is the best way to improve your life?</td>\n",
              "      <td>1</td>\n",
              "    </tr>\n",
              "    <tr>\n",
              "      <th>2</th>\n",
              "      <td>44371</td>\n",
              "      <td>88361</td>\n",
              "      <td>88362</td>\n",
              "      <td>Can energy be converted back into mass? Is it ...</td>\n",
              "      <td>Is it possible to convert energy into mass?</td>\n",
              "      <td>1</td>\n",
              "    </tr>\n",
              "    <tr>\n",
              "      <th>3</th>\n",
              "      <td>275215</td>\n",
              "      <td>541157</td>\n",
              "      <td>541158</td>\n",
              "      <td>What are some good virtual assistant bots?</td>\n",
              "      <td>What is General Catalyst looking for in compan...</td>\n",
              "      <td>0</td>\n",
              "    </tr>\n",
              "    <tr>\n",
              "      <th>4</th>\n",
              "      <td>33397</td>\n",
              "      <td>66562</td>\n",
              "      <td>66563</td>\n",
              "      <td>Does India have the technical capability to de...</td>\n",
              "      <td>What place in India are BrahMos missiles produ...</td>\n",
              "      <td>0</td>\n",
              "    </tr>\n",
              "  </tbody>\n",
              "</table>\n",
              "</div>\n",
              "    <div class=\"colab-df-buttons\">\n",
              "\n",
              "  <div class=\"colab-df-container\">\n",
              "    <button class=\"colab-df-convert\" onclick=\"convertToInteractive('df-67b99b8e-4ca7-4081-995a-cee83712807c')\"\n",
              "            title=\"Convert this dataframe to an interactive table.\"\n",
              "            style=\"display:none;\">\n",
              "\n",
              "  <svg xmlns=\"http://www.w3.org/2000/svg\" height=\"24px\" viewBox=\"0 -960 960 960\">\n",
              "    <path d=\"M120-120v-720h720v720H120Zm60-500h600v-160H180v160Zm220 220h160v-160H400v160Zm0 220h160v-160H400v160ZM180-400h160v-160H180v160Zm440 0h160v-160H620v160ZM180-180h160v-160H180v160Zm440 0h160v-160H620v160Z\"/>\n",
              "  </svg>\n",
              "    </button>\n",
              "\n",
              "  <style>\n",
              "    .colab-df-container {\n",
              "      display:flex;\n",
              "      gap: 12px;\n",
              "    }\n",
              "\n",
              "    .colab-df-convert {\n",
              "      background-color: #E8F0FE;\n",
              "      border: none;\n",
              "      border-radius: 50%;\n",
              "      cursor: pointer;\n",
              "      display: none;\n",
              "      fill: #1967D2;\n",
              "      height: 32px;\n",
              "      padding: 0 0 0 0;\n",
              "      width: 32px;\n",
              "    }\n",
              "\n",
              "    .colab-df-convert:hover {\n",
              "      background-color: #E2EBFA;\n",
              "      box-shadow: 0px 1px 2px rgba(60, 64, 67, 0.3), 0px 1px 3px 1px rgba(60, 64, 67, 0.15);\n",
              "      fill: #174EA6;\n",
              "    }\n",
              "\n",
              "    .colab-df-buttons div {\n",
              "      margin-bottom: 4px;\n",
              "    }\n",
              "\n",
              "    [theme=dark] .colab-df-convert {\n",
              "      background-color: #3B4455;\n",
              "      fill: #D2E3FC;\n",
              "    }\n",
              "\n",
              "    [theme=dark] .colab-df-convert:hover {\n",
              "      background-color: #434B5C;\n",
              "      box-shadow: 0px 1px 3px 1px rgba(0, 0, 0, 0.15);\n",
              "      filter: drop-shadow(0px 1px 2px rgba(0, 0, 0, 0.3));\n",
              "      fill: #FFFFFF;\n",
              "    }\n",
              "  </style>\n",
              "\n",
              "    <script>\n",
              "      const buttonEl =\n",
              "        document.querySelector('#df-67b99b8e-4ca7-4081-995a-cee83712807c button.colab-df-convert');\n",
              "      buttonEl.style.display =\n",
              "        google.colab.kernel.accessAllowed ? 'block' : 'none';\n",
              "\n",
              "      async function convertToInteractive(key) {\n",
              "        const element = document.querySelector('#df-67b99b8e-4ca7-4081-995a-cee83712807c');\n",
              "        const dataTable =\n",
              "          await google.colab.kernel.invokeFunction('convertToInteractive',\n",
              "                                                    [key], {});\n",
              "        if (!dataTable) return;\n",
              "\n",
              "        const docLinkHtml = 'Like what you see? Visit the ' +\n",
              "          '<a target=\"_blank\" href=https://colab.research.google.com/notebooks/data_table.ipynb>data table notebook</a>'\n",
              "          + ' to learn more about interactive tables.';\n",
              "        element.innerHTML = '';\n",
              "        dataTable['output_type'] = 'display_data';\n",
              "        await google.colab.output.renderOutput(dataTable, element);\n",
              "        const docLink = document.createElement('div');\n",
              "        docLink.innerHTML = docLinkHtml;\n",
              "        element.appendChild(docLink);\n",
              "      }\n",
              "    </script>\n",
              "  </div>\n",
              "\n",
              "\n",
              "<div id=\"df-c8d856fc-d3ba-49d1-bb16-74724002e2e5\">\n",
              "  <button class=\"colab-df-quickchart\" onclick=\"quickchart('df-c8d856fc-d3ba-49d1-bb16-74724002e2e5')\"\n",
              "            title=\"Suggest charts\"\n",
              "            style=\"display:none;\">\n",
              "\n",
              "<svg xmlns=\"http://www.w3.org/2000/svg\" height=\"24px\"viewBox=\"0 0 24 24\"\n",
              "     width=\"24px\">\n",
              "    <g>\n",
              "        <path d=\"M19 3H5c-1.1 0-2 .9-2 2v14c0 1.1.9 2 2 2h14c1.1 0 2-.9 2-2V5c0-1.1-.9-2-2-2zM9 17H7v-7h2v7zm4 0h-2V7h2v10zm4 0h-2v-4h2v4z\"/>\n",
              "    </g>\n",
              "</svg>\n",
              "  </button>\n",
              "\n",
              "<style>\n",
              "  .colab-df-quickchart {\n",
              "      --bg-color: #E8F0FE;\n",
              "      --fill-color: #1967D2;\n",
              "      --hover-bg-color: #E2EBFA;\n",
              "      --hover-fill-color: #174EA6;\n",
              "      --disabled-fill-color: #AAA;\n",
              "      --disabled-bg-color: #DDD;\n",
              "  }\n",
              "\n",
              "  [theme=dark] .colab-df-quickchart {\n",
              "      --bg-color: #3B4455;\n",
              "      --fill-color: #D2E3FC;\n",
              "      --hover-bg-color: #434B5C;\n",
              "      --hover-fill-color: #FFFFFF;\n",
              "      --disabled-bg-color: #3B4455;\n",
              "      --disabled-fill-color: #666;\n",
              "  }\n",
              "\n",
              "  .colab-df-quickchart {\n",
              "    background-color: var(--bg-color);\n",
              "    border: none;\n",
              "    border-radius: 50%;\n",
              "    cursor: pointer;\n",
              "    display: none;\n",
              "    fill: var(--fill-color);\n",
              "    height: 32px;\n",
              "    padding: 0;\n",
              "    width: 32px;\n",
              "  }\n",
              "\n",
              "  .colab-df-quickchart:hover {\n",
              "    background-color: var(--hover-bg-color);\n",
              "    box-shadow: 0 1px 2px rgba(60, 64, 67, 0.3), 0 1px 3px 1px rgba(60, 64, 67, 0.15);\n",
              "    fill: var(--button-hover-fill-color);\n",
              "  }\n",
              "\n",
              "  .colab-df-quickchart-complete:disabled,\n",
              "  .colab-df-quickchart-complete:disabled:hover {\n",
              "    background-color: var(--disabled-bg-color);\n",
              "    fill: var(--disabled-fill-color);\n",
              "    box-shadow: none;\n",
              "  }\n",
              "\n",
              "  .colab-df-spinner {\n",
              "    border: 2px solid var(--fill-color);\n",
              "    border-color: transparent;\n",
              "    border-bottom-color: var(--fill-color);\n",
              "    animation:\n",
              "      spin 1s steps(1) infinite;\n",
              "  }\n",
              "\n",
              "  @keyframes spin {\n",
              "    0% {\n",
              "      border-color: transparent;\n",
              "      border-bottom-color: var(--fill-color);\n",
              "      border-left-color: var(--fill-color);\n",
              "    }\n",
              "    20% {\n",
              "      border-color: transparent;\n",
              "      border-left-color: var(--fill-color);\n",
              "      border-top-color: var(--fill-color);\n",
              "    }\n",
              "    30% {\n",
              "      border-color: transparent;\n",
              "      border-left-color: var(--fill-color);\n",
              "      border-top-color: var(--fill-color);\n",
              "      border-right-color: var(--fill-color);\n",
              "    }\n",
              "    40% {\n",
              "      border-color: transparent;\n",
              "      border-right-color: var(--fill-color);\n",
              "      border-top-color: var(--fill-color);\n",
              "    }\n",
              "    60% {\n",
              "      border-color: transparent;\n",
              "      border-right-color: var(--fill-color);\n",
              "    }\n",
              "    80% {\n",
              "      border-color: transparent;\n",
              "      border-right-color: var(--fill-color);\n",
              "      border-bottom-color: var(--fill-color);\n",
              "    }\n",
              "    90% {\n",
              "      border-color: transparent;\n",
              "      border-bottom-color: var(--fill-color);\n",
              "    }\n",
              "  }\n",
              "</style>\n",
              "\n",
              "  <script>\n",
              "    async function quickchart(key) {\n",
              "      const quickchartButtonEl =\n",
              "        document.querySelector('#' + key + ' button');\n",
              "      quickchartButtonEl.disabled = true;  // To prevent multiple clicks.\n",
              "      quickchartButtonEl.classList.add('colab-df-spinner');\n",
              "      try {\n",
              "        const charts = await google.colab.kernel.invokeFunction(\n",
              "            'suggestCharts', [key], {});\n",
              "      } catch (error) {\n",
              "        console.error('Error during call to suggestCharts:', error);\n",
              "      }\n",
              "      quickchartButtonEl.classList.remove('colab-df-spinner');\n",
              "      quickchartButtonEl.classList.add('colab-df-quickchart-complete');\n",
              "    }\n",
              "    (() => {\n",
              "      let quickchartButtonEl =\n",
              "        document.querySelector('#df-c8d856fc-d3ba-49d1-bb16-74724002e2e5 button');\n",
              "      quickchartButtonEl.style.display =\n",
              "        google.colab.kernel.accessAllowed ? 'block' : 'none';\n",
              "    })();\n",
              "  </script>\n",
              "</div>\n",
              "    </div>\n",
              "  </div>\n"
            ]
          },
          "metadata": {},
          "execution_count": 5
        }
      ]
    },
    {
      "cell_type": "markdown",
      "source": [
        "data preprocessing"
      ],
      "metadata": {
        "id": "XwA9PcrVTloA"
      }
    },
    {
      "cell_type": "code",
      "source": [
        "stop_words = set(stopwords.words('english'))\n",
        "stemmer = SnowballStemmer('english')\n",
        "\n",
        "def preprocessing_text( txt):\n",
        "        txt = txt.lower()\n",
        "        txt = txt.replace(',000,000', 'm').replace(',000', 'k'\n",
        "                ).replace('\\xe2\\x80\\xb2', \"'\").replace('\\xe2\\x80\\x99',\n",
        "                \"'\").replace(\"can't\", 'cannot').replace(\"don't\",\n",
        "                'do not').replace(\"isn't\", 'is not').replace(\"you're\",\n",
        "                'you are').replace(\"you've\", 'you have'\n",
        "                                   ).replace(\"you'll\", 'you will'\n",
        "                ).replace(\"that'll\", 'that will').replace(\"should've\",\n",
        "                'should have').replace(\"aren't\", 'are not'\n",
        "                ).replace(\"couldn't\", 'could not').replace(\"didn't\",\n",
        "                'did not').replace(\"doesn't\", 'does not'\n",
        "                                   ).replace(\"hadn't\", 'had not'\n",
        "                ).replace(\"hasn't\", 'has not').replace(\"haven't\",\n",
        "                'have not').replace(\"mustn't\", 'must not'\n",
        "                                    ).replace(\"wasn't\", 'was not'\n",
        "                ).replace(\"i'm\", 'i am').replace(\"he's\", 'he is'\n",
        "                ).replace(\"she's\", 'she is').replace(\"ain't\", 'am not'\n",
        "                ).replace('%', ' percent ').replace('\\xe2\\x82\\xb9',\n",
        "                ' rupee ').replace('$', ' dollar '\n",
        "                                   ).replace('\\xe2\\x82\\xac', ' euro '\n",
        "                ).replace(\"'ll\", ' will').replace(\"'ve\", ' have'\n",
        "                ).replace(\"it's\", 'it is')\n",
        "\n",
        "        txt = re.sub(r\"[^A-Za-z0-9(),!.?\\'\\`]\", ' ', txt)\n",
        "        txt = re.sub(r\"\\'s\", \" 's \", txt)\n",
        "        txt = re.sub(r\"\\'ve\", \" 've \", txt)\n",
        "        txt = re.sub(r\"n\\'t\", \" 't \", txt)\n",
        "        txt = re.sub(r\"\\'re\", \" 're \", txt)\n",
        "        txt = re.sub(r\"\\'d\", \" 'd \", txt)\n",
        "        txt = re.sub(r\"\\'ll\", \" 'll \", txt)\n",
        "        txt = re.sub(r\",\", ' ', txt)\n",
        "        txt = re.sub(r\"\\.\", ' ', txt)\n",
        "        txt = re.sub(r\"!\", ' ', txt)\n",
        "        txt = re.sub(r\"\\(\", ' ( ', txt)\n",
        "        txt = re.sub(r\"\\)\", ' ) ', txt)\n",
        "        txt = re.sub(r\"\\?\", ' ', txt)\n",
        "        txt = re.sub(r\"\\s{2,}\", ' ', txt)\n",
        "        text_tokens = word_tokenize(txt)\n",
        "        tokens_without_sw = [word for word in text_tokens if word not\n",
        "                             in stop_words and len(word) != 1]\n",
        "        txt = ' '.join(tokens_without_sw)\n",
        "        txt = stemmer.stem(txt)\n",
        "\n",
        "        return txt"
      ],
      "metadata": {
        "id": "gtDmTlujTdgh"
      },
      "execution_count": null,
      "outputs": []
    },
    {
      "cell_type": "code",
      "source": [
        "train_df['question1_clean'] = train_df['question1'].apply(preprocessing_text)\n",
        "train_df['question2_clean'] = train_df['question2'].apply(preprocessing_text)\n",
        "test_df['question1_clean'] = test_df['question1'].apply(preprocessing_text)\n",
        "test_df['question2_clean'] = test_df['question2'].apply(preprocessing_text)\n"
      ],
      "metadata": {
        "id": "05I13Un3TdjF"
      },
      "execution_count": null,
      "outputs": []
    },
    {
      "cell_type": "code",
      "source": [
        "test_df.head()"
      ],
      "metadata": {
        "colab": {
          "base_uri": "https://localhost:8080/",
          "height": 310
        },
        "id": "ZSyBPc3KTdlp",
        "outputId": "7e81bf9e-cfe5-4693-c36a-c3ffb71f5a09"
      },
      "execution_count": null,
      "outputs": [
        {
          "output_type": "execute_result",
          "data": {
            "text/plain": [
              "       id    qid1    qid2                                          question1  \\\n",
              "0  367731  719712  719713  Why did you stop or reduce your smoking of mar...   \n",
              "1  335252  657311  657312              How can I really start losing weight?   \n",
              "2  384309  751472  751473            Do the Great Lakes have any salt water?   \n",
              "3  355856  696929  696930  What is the best online free course to learn U...   \n",
              "4  335975  658717  658718  Should I feel bad when I download something il...   \n",
              "\n",
              "                                           question2  is_duplicate  \\\n",
              "0  What are the laws with regard to marijuana in ...             0   \n",
              "1  What is the most effective everlasting method ...             1   \n",
              "2   Why are oceans salty but the Great Lakes aren't?             1   \n",
              "3   What is the best free online game design course?             0   \n",
              "4  Why do I feel that something bad is going to h...             0   \n",
              "\n",
              "                                  question1_clean  \\\n",
              "0                   stop reduce smoking marijuana   \n",
              "1                      really start losing weight   \n",
              "2                            great lakes salt wat   \n",
              "3  best online free course learn ui design beginn   \n",
              "4               feel bad download something illeg   \n",
              "\n",
              "                              question2_clean  \n",
              "0                 laws regard marijuana india  \n",
              "1  effective everlasting method losing weight  \n",
              "2                      oceans salty great lak  \n",
              "3          best free online game design cours  \n",
              "4      feel something bad going happen famili  "
            ],
            "text/html": [
              "\n",
              "  <div id=\"df-71a40c46-31a3-4049-af2d-7ede069785ba\" class=\"colab-df-container\">\n",
              "    <div>\n",
              "<style scoped>\n",
              "    .dataframe tbody tr th:only-of-type {\n",
              "        vertical-align: middle;\n",
              "    }\n",
              "\n",
              "    .dataframe tbody tr th {\n",
              "        vertical-align: top;\n",
              "    }\n",
              "\n",
              "    .dataframe thead th {\n",
              "        text-align: right;\n",
              "    }\n",
              "</style>\n",
              "<table border=\"1\" class=\"dataframe\">\n",
              "  <thead>\n",
              "    <tr style=\"text-align: right;\">\n",
              "      <th></th>\n",
              "      <th>id</th>\n",
              "      <th>qid1</th>\n",
              "      <th>qid2</th>\n",
              "      <th>question1</th>\n",
              "      <th>question2</th>\n",
              "      <th>is_duplicate</th>\n",
              "      <th>question1_clean</th>\n",
              "      <th>question2_clean</th>\n",
              "    </tr>\n",
              "  </thead>\n",
              "  <tbody>\n",
              "    <tr>\n",
              "      <th>0</th>\n",
              "      <td>367731</td>\n",
              "      <td>719712</td>\n",
              "      <td>719713</td>\n",
              "      <td>Why did you stop or reduce your smoking of mar...</td>\n",
              "      <td>What are the laws with regard to marijuana in ...</td>\n",
              "      <td>0</td>\n",
              "      <td>stop reduce smoking marijuana</td>\n",
              "      <td>laws regard marijuana india</td>\n",
              "    </tr>\n",
              "    <tr>\n",
              "      <th>1</th>\n",
              "      <td>335252</td>\n",
              "      <td>657311</td>\n",
              "      <td>657312</td>\n",
              "      <td>How can I really start losing weight?</td>\n",
              "      <td>What is the most effective everlasting method ...</td>\n",
              "      <td>1</td>\n",
              "      <td>really start losing weight</td>\n",
              "      <td>effective everlasting method losing weight</td>\n",
              "    </tr>\n",
              "    <tr>\n",
              "      <th>2</th>\n",
              "      <td>384309</td>\n",
              "      <td>751472</td>\n",
              "      <td>751473</td>\n",
              "      <td>Do the Great Lakes have any salt water?</td>\n",
              "      <td>Why are oceans salty but the Great Lakes aren't?</td>\n",
              "      <td>1</td>\n",
              "      <td>great lakes salt wat</td>\n",
              "      <td>oceans salty great lak</td>\n",
              "    </tr>\n",
              "    <tr>\n",
              "      <th>3</th>\n",
              "      <td>355856</td>\n",
              "      <td>696929</td>\n",
              "      <td>696930</td>\n",
              "      <td>What is the best online free course to learn U...</td>\n",
              "      <td>What is the best free online game design course?</td>\n",
              "      <td>0</td>\n",
              "      <td>best online free course learn ui design beginn</td>\n",
              "      <td>best free online game design cours</td>\n",
              "    </tr>\n",
              "    <tr>\n",
              "      <th>4</th>\n",
              "      <td>335975</td>\n",
              "      <td>658717</td>\n",
              "      <td>658718</td>\n",
              "      <td>Should I feel bad when I download something il...</td>\n",
              "      <td>Why do I feel that something bad is going to h...</td>\n",
              "      <td>0</td>\n",
              "      <td>feel bad download something illeg</td>\n",
              "      <td>feel something bad going happen famili</td>\n",
              "    </tr>\n",
              "  </tbody>\n",
              "</table>\n",
              "</div>\n",
              "    <div class=\"colab-df-buttons\">\n",
              "\n",
              "  <div class=\"colab-df-container\">\n",
              "    <button class=\"colab-df-convert\" onclick=\"convertToInteractive('df-71a40c46-31a3-4049-af2d-7ede069785ba')\"\n",
              "            title=\"Convert this dataframe to an interactive table.\"\n",
              "            style=\"display:none;\">\n",
              "\n",
              "  <svg xmlns=\"http://www.w3.org/2000/svg\" height=\"24px\" viewBox=\"0 -960 960 960\">\n",
              "    <path d=\"M120-120v-720h720v720H120Zm60-500h600v-160H180v160Zm220 220h160v-160H400v160Zm0 220h160v-160H400v160ZM180-400h160v-160H180v160Zm440 0h160v-160H620v160ZM180-180h160v-160H180v160Zm440 0h160v-160H620v160Z\"/>\n",
              "  </svg>\n",
              "    </button>\n",
              "\n",
              "  <style>\n",
              "    .colab-df-container {\n",
              "      display:flex;\n",
              "      gap: 12px;\n",
              "    }\n",
              "\n",
              "    .colab-df-convert {\n",
              "      background-color: #E8F0FE;\n",
              "      border: none;\n",
              "      border-radius: 50%;\n",
              "      cursor: pointer;\n",
              "      display: none;\n",
              "      fill: #1967D2;\n",
              "      height: 32px;\n",
              "      padding: 0 0 0 0;\n",
              "      width: 32px;\n",
              "    }\n",
              "\n",
              "    .colab-df-convert:hover {\n",
              "      background-color: #E2EBFA;\n",
              "      box-shadow: 0px 1px 2px rgba(60, 64, 67, 0.3), 0px 1px 3px 1px rgba(60, 64, 67, 0.15);\n",
              "      fill: #174EA6;\n",
              "    }\n",
              "\n",
              "    .colab-df-buttons div {\n",
              "      margin-bottom: 4px;\n",
              "    }\n",
              "\n",
              "    [theme=dark] .colab-df-convert {\n",
              "      background-color: #3B4455;\n",
              "      fill: #D2E3FC;\n",
              "    }\n",
              "\n",
              "    [theme=dark] .colab-df-convert:hover {\n",
              "      background-color: #434B5C;\n",
              "      box-shadow: 0px 1px 3px 1px rgba(0, 0, 0, 0.15);\n",
              "      filter: drop-shadow(0px 1px 2px rgba(0, 0, 0, 0.3));\n",
              "      fill: #FFFFFF;\n",
              "    }\n",
              "  </style>\n",
              "\n",
              "    <script>\n",
              "      const buttonEl =\n",
              "        document.querySelector('#df-71a40c46-31a3-4049-af2d-7ede069785ba button.colab-df-convert');\n",
              "      buttonEl.style.display =\n",
              "        google.colab.kernel.accessAllowed ? 'block' : 'none';\n",
              "\n",
              "      async function convertToInteractive(key) {\n",
              "        const element = document.querySelector('#df-71a40c46-31a3-4049-af2d-7ede069785ba');\n",
              "        const dataTable =\n",
              "          await google.colab.kernel.invokeFunction('convertToInteractive',\n",
              "                                                    [key], {});\n",
              "        if (!dataTable) return;\n",
              "\n",
              "        const docLinkHtml = 'Like what you see? Visit the ' +\n",
              "          '<a target=\"_blank\" href=https://colab.research.google.com/notebooks/data_table.ipynb>data table notebook</a>'\n",
              "          + ' to learn more about interactive tables.';\n",
              "        element.innerHTML = '';\n",
              "        dataTable['output_type'] = 'display_data';\n",
              "        await google.colab.output.renderOutput(dataTable, element);\n",
              "        const docLink = document.createElement('div');\n",
              "        docLink.innerHTML = docLinkHtml;\n",
              "        element.appendChild(docLink);\n",
              "      }\n",
              "    </script>\n",
              "  </div>\n",
              "\n",
              "\n",
              "<div id=\"df-8477f5b2-8920-4d1c-9370-14a59a29566b\">\n",
              "  <button class=\"colab-df-quickchart\" onclick=\"quickchart('df-8477f5b2-8920-4d1c-9370-14a59a29566b')\"\n",
              "            title=\"Suggest charts\"\n",
              "            style=\"display:none;\">\n",
              "\n",
              "<svg xmlns=\"http://www.w3.org/2000/svg\" height=\"24px\"viewBox=\"0 0 24 24\"\n",
              "     width=\"24px\">\n",
              "    <g>\n",
              "        <path d=\"M19 3H5c-1.1 0-2 .9-2 2v14c0 1.1.9 2 2 2h14c1.1 0 2-.9 2-2V5c0-1.1-.9-2-2-2zM9 17H7v-7h2v7zm4 0h-2V7h2v10zm4 0h-2v-4h2v4z\"/>\n",
              "    </g>\n",
              "</svg>\n",
              "  </button>\n",
              "\n",
              "<style>\n",
              "  .colab-df-quickchart {\n",
              "      --bg-color: #E8F0FE;\n",
              "      --fill-color: #1967D2;\n",
              "      --hover-bg-color: #E2EBFA;\n",
              "      --hover-fill-color: #174EA6;\n",
              "      --disabled-fill-color: #AAA;\n",
              "      --disabled-bg-color: #DDD;\n",
              "  }\n",
              "\n",
              "  [theme=dark] .colab-df-quickchart {\n",
              "      --bg-color: #3B4455;\n",
              "      --fill-color: #D2E3FC;\n",
              "      --hover-bg-color: #434B5C;\n",
              "      --hover-fill-color: #FFFFFF;\n",
              "      --disabled-bg-color: #3B4455;\n",
              "      --disabled-fill-color: #666;\n",
              "  }\n",
              "\n",
              "  .colab-df-quickchart {\n",
              "    background-color: var(--bg-color);\n",
              "    border: none;\n",
              "    border-radius: 50%;\n",
              "    cursor: pointer;\n",
              "    display: none;\n",
              "    fill: var(--fill-color);\n",
              "    height: 32px;\n",
              "    padding: 0;\n",
              "    width: 32px;\n",
              "  }\n",
              "\n",
              "  .colab-df-quickchart:hover {\n",
              "    background-color: var(--hover-bg-color);\n",
              "    box-shadow: 0 1px 2px rgba(60, 64, 67, 0.3), 0 1px 3px 1px rgba(60, 64, 67, 0.15);\n",
              "    fill: var(--button-hover-fill-color);\n",
              "  }\n",
              "\n",
              "  .colab-df-quickchart-complete:disabled,\n",
              "  .colab-df-quickchart-complete:disabled:hover {\n",
              "    background-color: var(--disabled-bg-color);\n",
              "    fill: var(--disabled-fill-color);\n",
              "    box-shadow: none;\n",
              "  }\n",
              "\n",
              "  .colab-df-spinner {\n",
              "    border: 2px solid var(--fill-color);\n",
              "    border-color: transparent;\n",
              "    border-bottom-color: var(--fill-color);\n",
              "    animation:\n",
              "      spin 1s steps(1) infinite;\n",
              "  }\n",
              "\n",
              "  @keyframes spin {\n",
              "    0% {\n",
              "      border-color: transparent;\n",
              "      border-bottom-color: var(--fill-color);\n",
              "      border-left-color: var(--fill-color);\n",
              "    }\n",
              "    20% {\n",
              "      border-color: transparent;\n",
              "      border-left-color: var(--fill-color);\n",
              "      border-top-color: var(--fill-color);\n",
              "    }\n",
              "    30% {\n",
              "      border-color: transparent;\n",
              "      border-left-color: var(--fill-color);\n",
              "      border-top-color: var(--fill-color);\n",
              "      border-right-color: var(--fill-color);\n",
              "    }\n",
              "    40% {\n",
              "      border-color: transparent;\n",
              "      border-right-color: var(--fill-color);\n",
              "      border-top-color: var(--fill-color);\n",
              "    }\n",
              "    60% {\n",
              "      border-color: transparent;\n",
              "      border-right-color: var(--fill-color);\n",
              "    }\n",
              "    80% {\n",
              "      border-color: transparent;\n",
              "      border-right-color: var(--fill-color);\n",
              "      border-bottom-color: var(--fill-color);\n",
              "    }\n",
              "    90% {\n",
              "      border-color: transparent;\n",
              "      border-bottom-color: var(--fill-color);\n",
              "    }\n",
              "  }\n",
              "</style>\n",
              "\n",
              "  <script>\n",
              "    async function quickchart(key) {\n",
              "      const quickchartButtonEl =\n",
              "        document.querySelector('#' + key + ' button');\n",
              "      quickchartButtonEl.disabled = true;  // To prevent multiple clicks.\n",
              "      quickchartButtonEl.classList.add('colab-df-spinner');\n",
              "      try {\n",
              "        const charts = await google.colab.kernel.invokeFunction(\n",
              "            'suggestCharts', [key], {});\n",
              "      } catch (error) {\n",
              "        console.error('Error during call to suggestCharts:', error);\n",
              "      }\n",
              "      quickchartButtonEl.classList.remove('colab-df-spinner');\n",
              "      quickchartButtonEl.classList.add('colab-df-quickchart-complete');\n",
              "    }\n",
              "    (() => {\n",
              "      let quickchartButtonEl =\n",
              "        document.querySelector('#df-8477f5b2-8920-4d1c-9370-14a59a29566b button');\n",
              "      quickchartButtonEl.style.display =\n",
              "        google.colab.kernel.accessAllowed ? 'block' : 'none';\n",
              "    })();\n",
              "  </script>\n",
              "</div>\n",
              "    </div>\n",
              "  </div>\n"
            ]
          },
          "metadata": {},
          "execution_count": 8
        }
      ]
    },
    {
      "cell_type": "code",
      "source": [],
      "metadata": {
        "id": "whi5SYC4TdoP"
      },
      "execution_count": null,
      "outputs": []
    },
    {
      "cell_type": "markdown",
      "source": [
        "representation"
      ],
      "metadata": {
        "id": "LenRO8M1VFCc"
      }
    },
    {
      "cell_type": "code",
      "source": [
        "import gensim\n",
        "from gensim.scripts.glove2word2vec import glove2word2vec\n",
        "from gensim.models.fasttext import load_facebook_model\n",
        "from transformers import XLNetTokenizer, XLNetModel\n",
        "import torch\n",
        "import torch.nn as nn\n",
        "import torch.nn.functional as F\n",
        "from sentence_transformers import SentenceTransformer\n",
        "\n",
        "from sklearn.feature_selection import SelectKBest\n",
        "from sklearn.feature_selection import chi2\n",
        "from sklearn.feature_selection import mutual_info_classif\n",
        "from sklearn.feature_selection import f_classif\n",
        "from sklearn.model_selection import train_test_split\n",
        "from sklearn.metrics import classification_report\n",
        "from sklearn.feature_extraction.text import TfidfVectorizer\n",
        "from sklearn.cluster import Birch\n",
        "\n",
        "from scipy.spatial.distance import cosine, cityblock, jaccard, \\\n",
        "    canberra, euclidean, minkowski, braycurtis"
      ],
      "metadata": {
        "id": "jhf1zJzIVRO2"
      },
      "execution_count": null,
      "outputs": []
    },
    {
      "cell_type": "markdown",
      "source": [
        "# **Bag of words**"
      ],
      "metadata": {
        "id": "Z05kjbP6dG0W"
      }
    },
    {
      "cell_type": "code",
      "source": [
        "from sklearn.feature_extraction.text import CountVectorizer"
      ],
      "metadata": {
        "id": "gGIYtrHSdZC8"
      },
      "execution_count": null,
      "outputs": []
    },
    {
      "cell_type": "code",
      "source": [
        "lol, val = train_test_split(train_df, test_size=0.2, random_state=42)\n",
        "train, test = lol, test_df"
      ],
      "metadata": {
        "id": "EZlGYfz0TdxN"
      },
      "execution_count": null,
      "outputs": []
    },
    {
      "cell_type": "code",
      "source": [
        "train.reset_index(drop=True, inplace=True)\n",
        "train.dropna(inplace=True)\n",
        "test.reset_index(drop=True, inplace=True)\n",
        "train.dropna(inplace=True)\n",
        "val.reset_index(drop=True, inplace=True)\n",
        "train.dropna(inplace=True)"
      ],
      "metadata": {
        "id": "s6kxFJz1bfRj"
      },
      "execution_count": null,
      "outputs": []
    },
    {
      "cell_type": "code",
      "source": [
        "train"
      ],
      "metadata": {
        "id": "xEbltsdbbvkt"
      },
      "execution_count": null,
      "outputs": []
    },
    {
      "cell_type": "code",
      "source": [
        "vectorizer = CountVectorizer(ngram_range=(1, 1))\n",
        "q1_train_v = vectorizer.fit(train['question1_clean']).vocabulary_\n",
        "q2_train_v = vectorizer.fit(train['question2_clean']).vocabulary_\n",
        "q1_val_v = vectorizer.fit(val['question1_clean']).vocabulary_\n",
        "q2_val_v = vectorizer.fit(val['question2_clean']).vocabulary_\n",
        "q1_test_v = vectorizer.fit(test['question1_clean']).vocabulary_\n",
        "q2_test_v = vectorizer.fit(test['question2_clean']).vocabulary_"
      ],
      "metadata": {
        "id": "2V61csnPbvnK"
      },
      "execution_count": null,
      "outputs": []
    },
    {
      "cell_type": "code",
      "source": [
        "vocab = set()\n",
        "vocab = vocab.union(set(q1_train_v.keys()))\n",
        "vocab = vocab.union(set(q2_train_v.keys()))\n",
        "vocab = vocab.union(set(q1_test_v.keys()))\n",
        "vocab = vocab.union(set(q2_test_v.keys()))\n",
        "vocab = vocab.union(set(q1_val_v.keys()))\n",
        "vocab = vocab.union(set(q2_val_v.keys()))\n",
        "vocab = set([x.lower() for x in vocab])\n",
        "print(len(vocab))\n",
        "vocab_list = list(vocab)\n",
        "vocab_dict = { vocab_list[i]:i for i in range(len(vocab))}\n",
        "print(len(vocab_dict))"
      ],
      "metadata": {
        "id": "8hZUTSunbvp3"
      },
      "execution_count": null,
      "outputs": []
    },
    {
      "cell_type": "code",
      "source": [
        "vectorizer = CountVectorizer(ngram_range=(1, 1), vocabulary=vocab_dict)\n",
        "v_train = vectorizer.transform(train['question1_clean'] + ' ' + train['question2_clean'])\n",
        "v_test = vectorizer.transform(test['question1_clean'] + ' ' + test['question2_clean'])\n",
        "v_val = vectorizer.transform(val['question1_clean'] + ' ' + val['question2_clean'])"
      ],
      "metadata": {
        "id": "lmQMsDTabvse"
      },
      "execution_count": null,
      "outputs": []
    },
    {
      "cell_type": "code",
      "source": [
        "train_labels = train['is_duplicate'].values\n",
        "val_labels = val['is_duplicate'].values\n",
        "test_labels = test['is_duplicate'].values"
      ],
      "metadata": {
        "id": "SVlQxZiObvv6"
      },
      "execution_count": null,
      "outputs": []
    },
    {
      "cell_type": "markdown",
      "source": [
        ">sgd regressor"
      ],
      "metadata": {
        "id": "0keE1J5uicDD"
      }
    },
    {
      "cell_type": "code",
      "source": [
        "numtrainingpoints = v_train.shape[0]\n",
        "print(numtrainingpoints)"
      ],
      "metadata": {
        "id": "wIbx4vKNjQux"
      },
      "execution_count": null,
      "outputs": []
    },
    {
      "cell_type": "code",
      "source": [
        "from sklearn.linear_model import SGDClassifier\n",
        "\n",
        "def iter_minibatches(chunksize, numtrainingpoints):\n",
        "    chunkstartmarker = 0\n",
        "    while chunkstartmarker + chunksize < numtrainingpoints:\n",
        "        chunkrows = range(chunkstartmarker, chunkstartmarker + chunksize)\n",
        "        X_chunk, y_chunk = v_train[chunkrows], train_labels[chunkrows]\n",
        "        yield X_chunk, y_chunk\n",
        "        chunkstartmarker += chunksize\n",
        "\n",
        "# Replace with your actual dataset dimensions\n",
        "numtrainingpoints = v_train.shape[0]\n",
        "#num_features = len(v_train[0])\n",
        "\n",
        "batcherator = iter_minibatches(chunksize=1000, numtrainingpoints=numtrainingpoints)\n",
        "model = SGDClassifier()\n",
        "\n",
        "# Train model\n",
        "for X_chunk, y_chunk in batcherator:\n",
        "    model.partial_fit(X_chunk, y_chunk, classes=[0, 1])  # Assuming binary classification\n",
        "\n"
      ],
      "metadata": {
        "id": "1tuKIBxlngw1"
      },
      "execution_count": null,
      "outputs": []
    },
    {
      "cell_type": "code",
      "source": [
        "train_labels"
      ],
      "metadata": {
        "id": "3F6bsWjOsGl7"
      },
      "execution_count": null,
      "outputs": []
    },
    {
      "cell_type": "code",
      "source": [
        "#SGD\n",
        "from sklearn.metrics import confusion_matrix, precision_score, recall_score, f1_score, accuracy_score\n",
        "# accuracy of validation set\n",
        "pred_val = model.predict(v_val)\n",
        "print('Train accuracy:', accuracy_score(val_labels, pred_val))\n",
        "# accuracy of test set\n",
        "pred_test = model.predict(v_test)\n",
        "acc = accuracy_score(test_labels, pred_test)\n",
        "f1 = f1_score(test_labels, pred_test)\n",
        "prec = precision_score(test_labels, pred_test)\n",
        "rec = recall_score(test_labels, pred_test)\n",
        "cm = confusion_matrix(test_labels, pred_test)\n",
        "print(f'Test accuracy: {acc}')\n",
        "print(f'precision: {prec}')\n",
        "print(f'recall: {rec}')\n",
        "print(f'f1 score: {f1}')\n",
        "print(f'confusion matrix: {cm}')"
      ],
      "metadata": {
        "id": "6urBKpX7pI5y"
      },
      "execution_count": null,
      "outputs": []
    },
    {
      "cell_type": "code",
      "source": [
        "from sklearn.metrics import roc_curve, auc\n",
        "import matplotlib.pyplot as plt\n",
        "# Get raw decision values\n",
        "raw_decision_values = model.decision_function(v_test)\n",
        "# Apply sigmoid to get probabilities\n",
        "pred_scores = 1 / (1 + np.exp(-raw_decision_values))\n",
        "# Compute ROC curve and ROC area for each class\n",
        "fpr, tpr, _ = roc_curve(test_labels, pred_scores)\n",
        "roc_auc = auc(fpr, tpr)\n",
        "\n",
        "# Plot ROC curve\n",
        "plt.figure(figsize=(5, 5))\n",
        "plt.plot(fpr, tpr, color='darkorange', lw=2, label=f'ROC curve (area = {roc_auc:.2f})')\n",
        "plt.plot([0, 1], [0, 1], color='navy', lw=2, linestyle='--')\n",
        "plt.xlim([0.0, 1.0])\n",
        "plt.ylim([0.0, 1.05])\n",
        "plt.xlabel('False Positive Rate')\n",
        "plt.ylabel('True Positive Rate')\n",
        "plt.title('ROC Curve for SGD Classifier with Bag of Words representation')\n",
        "plt.legend(loc='lower right')\n",
        "plt.show()"
      ],
      "metadata": {
        "id": "GNlvs29jNsXz"
      },
      "execution_count": null,
      "outputs": []
    },
    {
      "cell_type": "code",
      "source": [
        "print(classification_report(test_labels, pred_test))"
      ],
      "metadata": {
        "id": "OEOz7m4MVSsA"
      },
      "execution_count": null,
      "outputs": []
    },
    {
      "cell_type": "markdown",
      "source": [
        "cross validation---------"
      ],
      "metadata": {
        "id": "dskMGPkT6_4l"
      }
    },
    {
      "cell_type": "code",
      "source": [
        "from sklearn.model_selection import cross_val_score,KFold\n",
        "from sklearn.model_selection import StratifiedKFold\n",
        "\n",
        "model = SGDClassifier()\n",
        "kf = StratifiedKFold(n_splits=5, shuffle=True, random_state=1)\n",
        "#logreg_score=cross_val_score(logreg,X,Y,cv=kf)\n",
        "sgd_score = cross_val_score(model, v_train, train_labels, cv = kf)\n",
        "print(\"Cross Validation Scores are {}\".format(sgd_score))\n",
        "print(\"Average Cross Validation score :{}+/- {}\".format(sgd_score.mean()*100,sgd_score.std()*100))"
      ],
      "metadata": {
        "id": "M9jhStuB7CyX"
      },
      "execution_count": null,
      "outputs": []
    },
    {
      "cell_type": "markdown",
      "source": [
        "-----------------"
      ],
      "metadata": {
        "id": "e2Zzr10USTnP"
      }
    },
    {
      "cell_type": "markdown",
      "source": [
        "Word2Vec"
      ],
      "metadata": {
        "id": "9EsgXksFVvTW"
      }
    },
    {
      "cell_type": "code",
      "source": [
        "from google.colab import drive\n",
        "drive.mount('/content/drive')"
      ],
      "metadata": {
        "id": "VLNuV5LhxstI",
        "colab": {
          "base_uri": "https://localhost:8080/"
        },
        "outputId": "351e3060-1589-47e9-92e2-f916a0ba73d0"
      },
      "execution_count": null,
      "outputs": [
        {
          "output_type": "stream",
          "name": "stdout",
          "text": [
            "Mounted at /content/drive\n"
          ]
        }
      ]
    },
    {
      "cell_type": "markdown",
      "source": [
        "apply embedding"
      ],
      "metadata": {
        "id": "WnC9iXibKONI"
      }
    },
    {
      "cell_type": "code",
      "source": [
        "!pip install gensim==4.3.2"
      ],
      "metadata": {
        "colab": {
          "base_uri": "https://localhost:8080/"
        },
        "id": "k1JnbBFfKSpH",
        "outputId": "84904bd8-3ce3-4ac9-a647-ea9b9093baa4"
      },
      "execution_count": null,
      "outputs": [
        {
          "output_type": "stream",
          "name": "stdout",
          "text": [
            "Requirement already satisfied: gensim==4.3.2 in /usr/local/lib/python3.10/dist-packages (4.3.2)\n",
            "Requirement already satisfied: numpy>=1.18.5 in /usr/local/lib/python3.10/dist-packages (from gensim==4.3.2) (1.23.5)\n",
            "Requirement already satisfied: scipy>=1.7.0 in /usr/local/lib/python3.10/dist-packages (from gensim==4.3.2) (1.11.3)\n",
            "Requirement already satisfied: smart-open>=1.8.1 in /usr/local/lib/python3.10/dist-packages (from gensim==4.3.2) (6.4.0)\n"
          ]
        }
      ]
    },
    {
      "cell_type": "code",
      "source": [
        "import re\n",
        "import pandas as pd\n",
        "import numpy as np\n",
        "from gensim.models import KeyedVectors\n",
        "# import nltk\n",
        "# nltk.download('punkt')\n",
        "# nltk.download('stopwords')\n",
        "from nltk.corpus import stopwords\n",
        "from nltk.tokenize import word_tokenize\n",
        "\n",
        "embed_lookup = KeyedVectors.load_word2vec_format('/content/drive/MyDrive/CS_412_IML/GoogleNews-vectors-negative300.bin.gz', binary= True)"
      ],
      "metadata": {
        "id": "XRlASAJPK-J9"
      },
      "execution_count": null,
      "outputs": []
    },
    {
      "cell_type": "code",
      "source": [
        "def process(text):\n",
        "    text = re.sub(r'[^\\w\\s]','',text)\n",
        "    text = re.sub(r\"\\d+\", \"\", text)\n",
        "    word_tokens = word_tokenize(text)\n",
        "    stop_words = set(stopwords.words('english'))\n",
        "    filtered_sentence = [w for w in word_tokens if not w.lower() in stop_words]\n",
        "    if not filtered_sentence:\n",
        "        # Handle the case where there are no valid words\n",
        "        return np.zeros(300)\n",
        "    features = np.zeros((len(filtered_sentence), 300))\n",
        "    for j, word in enumerate(filtered_sentence):\n",
        "        if word in embed_lookup.index_to_key:\n",
        "            features[j] = embed_lookup[word]\n",
        "        else:\n",
        "            pass\n",
        "    return np.nanmean(features, axis=0)\n",
        "\n",
        "def w2v_embedding(text1, text2):\n",
        "    q1 = process(text1)\n",
        "    q2 = process(text2)\n",
        "    # print(\"q1:\", q1.shape)\n",
        "    # print(\"q2:\", q2.shape)\n",
        "        # Check if q1 and q2 are empty arrays\n",
        "    return np.concatenate((q1,q2))\n",
        "\n",
        "x = w2v_embedding(\"How are you finish?\", \"Whats up?\")\n",
        "print(x.shape)"
      ],
      "metadata": {
        "colab": {
          "base_uri": "https://localhost:8080/"
        },
        "id": "G7er7p5LEBXg",
        "outputId": "eee5efa3-2e5b-4741-fcbd-84e53016252a"
      },
      "execution_count": null,
      "outputs": [
        {
          "output_type": "stream",
          "name": "stdout",
          "text": [
            "(600,)\n"
          ]
        }
      ]
    },
    {
      "cell_type": "code",
      "source": [
        "train_df"
      ],
      "metadata": {
        "colab": {
          "base_uri": "https://localhost:8080/",
          "height": 718
        },
        "id": "9AR-tFft-kqH",
        "outputId": "430becd5-a6a9-4c57-a922-2ae2a761f3d8"
      },
      "execution_count": null,
      "outputs": [
        {
          "output_type": "execute_result",
          "data": {
            "text/plain": [
              "            id    qid1    qid2  \\\n",
              "0       210774  415740  415741   \n",
              "1        16405   32741   32742   \n",
              "2        44371   88361   88362   \n",
              "3       275215  541157  541158   \n",
              "4        33397   66562   66563   \n",
              "...        ...     ...     ...   \n",
              "323473  306449  601672  601673   \n",
              "323474   72985  145042  145043   \n",
              "323475  102536  203437  203438   \n",
              "323476  179478  354520  354521   \n",
              "323477  327105  641552  641553   \n",
              "\n",
              "                                                question1  \\\n",
              "0       What is the United Airlines reservations numbe...   \n",
              "1                          How you can improve your life?   \n",
              "2       Can energy be converted back into mass? Is it ...   \n",
              "3              What are some good virtual assistant bots?   \n",
              "4       Does India have the technical capability to de...   \n",
              "...                                                   ...   \n",
              "323473                        Where do I get a call girl?   \n",
              "323474  How should I prepare for Accenture robotic aut...   \n",
              "323475  What is the relationship between mapR and Hadoop?   \n",
              "323476  Which past superstar do people think should re...   \n",
              "323477              How do the Dutch view the Afrikaners?   \n",
              "\n",
              "                                                question2  is_duplicate  \\\n",
              "0       What are the details of the United Airline 086...             0   \n",
              "1              What is the best way to improve your life?             1   \n",
              "2             Is it possible to convert energy into mass?             1   \n",
              "3       What is General Catalyst looking for in compan...             0   \n",
              "4       What place in India are BrahMos missiles produ...             0   \n",
              "...                                                   ...           ...   \n",
              "323473                         Where do I get call girls?             1   \n",
              "323474  How can I prepare for manual testing interview...             0   \n",
              "323475  What is the relationship between MySQL and Had...             0   \n",
              "323476  Who are WWE superstar John Cena's real life fr...             0   \n",
              "323477  How in general do the Dutch feel about Afrikan...             1   \n",
              "\n",
              "                                          question1_clean  \\\n",
              "0                united airlines reservations number answ   \n",
              "1                                             improve lif   \n",
              "2             energy converted back mass practically poss   \n",
              "3                              good virtual assistant bot   \n",
              "4       india technical capability design produce miss...   \n",
              "...                                                   ...   \n",
              "323473                                      get call girl   \n",
              "323474  prepare accenture robotic automation testing i...   \n",
              "323475                           relationship mapr hadoop   \n",
              "323476              past superstar people think return ww   \n",
              "323477                                 dutch view afrikan   \n",
              "\n",
              "                                          question2_clean  \n",
              "0                         details united airline 086 plan  \n",
              "1                                    best way improve lif  \n",
              "2                            possible convert energy mass  \n",
              "3       general catalyst looking companies comes bots ...  \n",
              "4                     place india brahmos missiles produc  \n",
              "...                                                   ...  \n",
              "323473                                      get call girl  \n",
              "323474                prepare manual testing interview tc  \n",
              "323475                          relationship mysql hadoop  \n",
              "323476    wwe superstar john cena 's real life friends ww  \n",
              "323477                         general dutch feel afrikan  \n",
              "\n",
              "[323478 rows x 8 columns]"
            ],
            "text/html": [
              "\n",
              "  <div id=\"df-55b8ec17-65ed-45a6-b2e0-3f7a3977330f\" class=\"colab-df-container\">\n",
              "    <div>\n",
              "<style scoped>\n",
              "    .dataframe tbody tr th:only-of-type {\n",
              "        vertical-align: middle;\n",
              "    }\n",
              "\n",
              "    .dataframe tbody tr th {\n",
              "        vertical-align: top;\n",
              "    }\n",
              "\n",
              "    .dataframe thead th {\n",
              "        text-align: right;\n",
              "    }\n",
              "</style>\n",
              "<table border=\"1\" class=\"dataframe\">\n",
              "  <thead>\n",
              "    <tr style=\"text-align: right;\">\n",
              "      <th></th>\n",
              "      <th>id</th>\n",
              "      <th>qid1</th>\n",
              "      <th>qid2</th>\n",
              "      <th>question1</th>\n",
              "      <th>question2</th>\n",
              "      <th>is_duplicate</th>\n",
              "      <th>question1_clean</th>\n",
              "      <th>question2_clean</th>\n",
              "    </tr>\n",
              "  </thead>\n",
              "  <tbody>\n",
              "    <tr>\n",
              "      <th>0</th>\n",
              "      <td>210774</td>\n",
              "      <td>415740</td>\n",
              "      <td>415741</td>\n",
              "      <td>What is the United Airlines reservations numbe...</td>\n",
              "      <td>What are the details of the United Airline 086...</td>\n",
              "      <td>0</td>\n",
              "      <td>united airlines reservations number answ</td>\n",
              "      <td>details united airline 086 plan</td>\n",
              "    </tr>\n",
              "    <tr>\n",
              "      <th>1</th>\n",
              "      <td>16405</td>\n",
              "      <td>32741</td>\n",
              "      <td>32742</td>\n",
              "      <td>How you can improve your life?</td>\n",
              "      <td>What is the best way to improve your life?</td>\n",
              "      <td>1</td>\n",
              "      <td>improve lif</td>\n",
              "      <td>best way improve lif</td>\n",
              "    </tr>\n",
              "    <tr>\n",
              "      <th>2</th>\n",
              "      <td>44371</td>\n",
              "      <td>88361</td>\n",
              "      <td>88362</td>\n",
              "      <td>Can energy be converted back into mass? Is it ...</td>\n",
              "      <td>Is it possible to convert energy into mass?</td>\n",
              "      <td>1</td>\n",
              "      <td>energy converted back mass practically poss</td>\n",
              "      <td>possible convert energy mass</td>\n",
              "    </tr>\n",
              "    <tr>\n",
              "      <th>3</th>\n",
              "      <td>275215</td>\n",
              "      <td>541157</td>\n",
              "      <td>541158</td>\n",
              "      <td>What are some good virtual assistant bots?</td>\n",
              "      <td>What is General Catalyst looking for in compan...</td>\n",
              "      <td>0</td>\n",
              "      <td>good virtual assistant bot</td>\n",
              "      <td>general catalyst looking companies comes bots ...</td>\n",
              "    </tr>\n",
              "    <tr>\n",
              "      <th>4</th>\n",
              "      <td>33397</td>\n",
              "      <td>66562</td>\n",
              "      <td>66563</td>\n",
              "      <td>Does India have the technical capability to de...</td>\n",
              "      <td>What place in India are BrahMos missiles produ...</td>\n",
              "      <td>0</td>\n",
              "      <td>india technical capability design produce miss...</td>\n",
              "      <td>place india brahmos missiles produc</td>\n",
              "    </tr>\n",
              "    <tr>\n",
              "      <th>...</th>\n",
              "      <td>...</td>\n",
              "      <td>...</td>\n",
              "      <td>...</td>\n",
              "      <td>...</td>\n",
              "      <td>...</td>\n",
              "      <td>...</td>\n",
              "      <td>...</td>\n",
              "      <td>...</td>\n",
              "    </tr>\n",
              "    <tr>\n",
              "      <th>323473</th>\n",
              "      <td>306449</td>\n",
              "      <td>601672</td>\n",
              "      <td>601673</td>\n",
              "      <td>Where do I get a call girl?</td>\n",
              "      <td>Where do I get call girls?</td>\n",
              "      <td>1</td>\n",
              "      <td>get call girl</td>\n",
              "      <td>get call girl</td>\n",
              "    </tr>\n",
              "    <tr>\n",
              "      <th>323474</th>\n",
              "      <td>72985</td>\n",
              "      <td>145042</td>\n",
              "      <td>145043</td>\n",
              "      <td>How should I prepare for Accenture robotic aut...</td>\n",
              "      <td>How can I prepare for manual testing interview...</td>\n",
              "      <td>0</td>\n",
              "      <td>prepare accenture robotic automation testing i...</td>\n",
              "      <td>prepare manual testing interview tc</td>\n",
              "    </tr>\n",
              "    <tr>\n",
              "      <th>323475</th>\n",
              "      <td>102536</td>\n",
              "      <td>203437</td>\n",
              "      <td>203438</td>\n",
              "      <td>What is the relationship between mapR and Hadoop?</td>\n",
              "      <td>What is the relationship between MySQL and Had...</td>\n",
              "      <td>0</td>\n",
              "      <td>relationship mapr hadoop</td>\n",
              "      <td>relationship mysql hadoop</td>\n",
              "    </tr>\n",
              "    <tr>\n",
              "      <th>323476</th>\n",
              "      <td>179478</td>\n",
              "      <td>354520</td>\n",
              "      <td>354521</td>\n",
              "      <td>Which past superstar do people think should re...</td>\n",
              "      <td>Who are WWE superstar John Cena's real life fr...</td>\n",
              "      <td>0</td>\n",
              "      <td>past superstar people think return ww</td>\n",
              "      <td>wwe superstar john cena 's real life friends ww</td>\n",
              "    </tr>\n",
              "    <tr>\n",
              "      <th>323477</th>\n",
              "      <td>327105</td>\n",
              "      <td>641552</td>\n",
              "      <td>641553</td>\n",
              "      <td>How do the Dutch view the Afrikaners?</td>\n",
              "      <td>How in general do the Dutch feel about Afrikan...</td>\n",
              "      <td>1</td>\n",
              "      <td>dutch view afrikan</td>\n",
              "      <td>general dutch feel afrikan</td>\n",
              "    </tr>\n",
              "  </tbody>\n",
              "</table>\n",
              "<p>323478 rows × 8 columns</p>\n",
              "</div>\n",
              "    <div class=\"colab-df-buttons\">\n",
              "\n",
              "  <div class=\"colab-df-container\">\n",
              "    <button class=\"colab-df-convert\" onclick=\"convertToInteractive('df-55b8ec17-65ed-45a6-b2e0-3f7a3977330f')\"\n",
              "            title=\"Convert this dataframe to an interactive table.\"\n",
              "            style=\"display:none;\">\n",
              "\n",
              "  <svg xmlns=\"http://www.w3.org/2000/svg\" height=\"24px\" viewBox=\"0 -960 960 960\">\n",
              "    <path d=\"M120-120v-720h720v720H120Zm60-500h600v-160H180v160Zm220 220h160v-160H400v160Zm0 220h160v-160H400v160ZM180-400h160v-160H180v160Zm440 0h160v-160H620v160ZM180-180h160v-160H180v160Zm440 0h160v-160H620v160Z\"/>\n",
              "  </svg>\n",
              "    </button>\n",
              "\n",
              "  <style>\n",
              "    .colab-df-container {\n",
              "      display:flex;\n",
              "      gap: 12px;\n",
              "    }\n",
              "\n",
              "    .colab-df-convert {\n",
              "      background-color: #E8F0FE;\n",
              "      border: none;\n",
              "      border-radius: 50%;\n",
              "      cursor: pointer;\n",
              "      display: none;\n",
              "      fill: #1967D2;\n",
              "      height: 32px;\n",
              "      padding: 0 0 0 0;\n",
              "      width: 32px;\n",
              "    }\n",
              "\n",
              "    .colab-df-convert:hover {\n",
              "      background-color: #E2EBFA;\n",
              "      box-shadow: 0px 1px 2px rgba(60, 64, 67, 0.3), 0px 1px 3px 1px rgba(60, 64, 67, 0.15);\n",
              "      fill: #174EA6;\n",
              "    }\n",
              "\n",
              "    .colab-df-buttons div {\n",
              "      margin-bottom: 4px;\n",
              "    }\n",
              "\n",
              "    [theme=dark] .colab-df-convert {\n",
              "      background-color: #3B4455;\n",
              "      fill: #D2E3FC;\n",
              "    }\n",
              "\n",
              "    [theme=dark] .colab-df-convert:hover {\n",
              "      background-color: #434B5C;\n",
              "      box-shadow: 0px 1px 3px 1px rgba(0, 0, 0, 0.15);\n",
              "      filter: drop-shadow(0px 1px 2px rgba(0, 0, 0, 0.3));\n",
              "      fill: #FFFFFF;\n",
              "    }\n",
              "  </style>\n",
              "\n",
              "    <script>\n",
              "      const buttonEl =\n",
              "        document.querySelector('#df-55b8ec17-65ed-45a6-b2e0-3f7a3977330f button.colab-df-convert');\n",
              "      buttonEl.style.display =\n",
              "        google.colab.kernel.accessAllowed ? 'block' : 'none';\n",
              "\n",
              "      async function convertToInteractive(key) {\n",
              "        const element = document.querySelector('#df-55b8ec17-65ed-45a6-b2e0-3f7a3977330f');\n",
              "        const dataTable =\n",
              "          await google.colab.kernel.invokeFunction('convertToInteractive',\n",
              "                                                    [key], {});\n",
              "        if (!dataTable) return;\n",
              "\n",
              "        const docLinkHtml = 'Like what you see? Visit the ' +\n",
              "          '<a target=\"_blank\" href=https://colab.research.google.com/notebooks/data_table.ipynb>data table notebook</a>'\n",
              "          + ' to learn more about interactive tables.';\n",
              "        element.innerHTML = '';\n",
              "        dataTable['output_type'] = 'display_data';\n",
              "        await google.colab.output.renderOutput(dataTable, element);\n",
              "        const docLink = document.createElement('div');\n",
              "        docLink.innerHTML = docLinkHtml;\n",
              "        element.appendChild(docLink);\n",
              "      }\n",
              "    </script>\n",
              "  </div>\n",
              "\n",
              "\n",
              "<div id=\"df-21b1f91e-a6fd-4c12-a5e7-70a70d0e482a\">\n",
              "  <button class=\"colab-df-quickchart\" onclick=\"quickchart('df-21b1f91e-a6fd-4c12-a5e7-70a70d0e482a')\"\n",
              "            title=\"Suggest charts\"\n",
              "            style=\"display:none;\">\n",
              "\n",
              "<svg xmlns=\"http://www.w3.org/2000/svg\" height=\"24px\"viewBox=\"0 0 24 24\"\n",
              "     width=\"24px\">\n",
              "    <g>\n",
              "        <path d=\"M19 3H5c-1.1 0-2 .9-2 2v14c0 1.1.9 2 2 2h14c1.1 0 2-.9 2-2V5c0-1.1-.9-2-2-2zM9 17H7v-7h2v7zm4 0h-2V7h2v10zm4 0h-2v-4h2v4z\"/>\n",
              "    </g>\n",
              "</svg>\n",
              "  </button>\n",
              "\n",
              "<style>\n",
              "  .colab-df-quickchart {\n",
              "      --bg-color: #E8F0FE;\n",
              "      --fill-color: #1967D2;\n",
              "      --hover-bg-color: #E2EBFA;\n",
              "      --hover-fill-color: #174EA6;\n",
              "      --disabled-fill-color: #AAA;\n",
              "      --disabled-bg-color: #DDD;\n",
              "  }\n",
              "\n",
              "  [theme=dark] .colab-df-quickchart {\n",
              "      --bg-color: #3B4455;\n",
              "      --fill-color: #D2E3FC;\n",
              "      --hover-bg-color: #434B5C;\n",
              "      --hover-fill-color: #FFFFFF;\n",
              "      --disabled-bg-color: #3B4455;\n",
              "      --disabled-fill-color: #666;\n",
              "  }\n",
              "\n",
              "  .colab-df-quickchart {\n",
              "    background-color: var(--bg-color);\n",
              "    border: none;\n",
              "    border-radius: 50%;\n",
              "    cursor: pointer;\n",
              "    display: none;\n",
              "    fill: var(--fill-color);\n",
              "    height: 32px;\n",
              "    padding: 0;\n",
              "    width: 32px;\n",
              "  }\n",
              "\n",
              "  .colab-df-quickchart:hover {\n",
              "    background-color: var(--hover-bg-color);\n",
              "    box-shadow: 0 1px 2px rgba(60, 64, 67, 0.3), 0 1px 3px 1px rgba(60, 64, 67, 0.15);\n",
              "    fill: var(--button-hover-fill-color);\n",
              "  }\n",
              "\n",
              "  .colab-df-quickchart-complete:disabled,\n",
              "  .colab-df-quickchart-complete:disabled:hover {\n",
              "    background-color: var(--disabled-bg-color);\n",
              "    fill: var(--disabled-fill-color);\n",
              "    box-shadow: none;\n",
              "  }\n",
              "\n",
              "  .colab-df-spinner {\n",
              "    border: 2px solid var(--fill-color);\n",
              "    border-color: transparent;\n",
              "    border-bottom-color: var(--fill-color);\n",
              "    animation:\n",
              "      spin 1s steps(1) infinite;\n",
              "  }\n",
              "\n",
              "  @keyframes spin {\n",
              "    0% {\n",
              "      border-color: transparent;\n",
              "      border-bottom-color: var(--fill-color);\n",
              "      border-left-color: var(--fill-color);\n",
              "    }\n",
              "    20% {\n",
              "      border-color: transparent;\n",
              "      border-left-color: var(--fill-color);\n",
              "      border-top-color: var(--fill-color);\n",
              "    }\n",
              "    30% {\n",
              "      border-color: transparent;\n",
              "      border-left-color: var(--fill-color);\n",
              "      border-top-color: var(--fill-color);\n",
              "      border-right-color: var(--fill-color);\n",
              "    }\n",
              "    40% {\n",
              "      border-color: transparent;\n",
              "      border-right-color: var(--fill-color);\n",
              "      border-top-color: var(--fill-color);\n",
              "    }\n",
              "    60% {\n",
              "      border-color: transparent;\n",
              "      border-right-color: var(--fill-color);\n",
              "    }\n",
              "    80% {\n",
              "      border-color: transparent;\n",
              "      border-right-color: var(--fill-color);\n",
              "      border-bottom-color: var(--fill-color);\n",
              "    }\n",
              "    90% {\n",
              "      border-color: transparent;\n",
              "      border-bottom-color: var(--fill-color);\n",
              "    }\n",
              "  }\n",
              "</style>\n",
              "\n",
              "  <script>\n",
              "    async function quickchart(key) {\n",
              "      const quickchartButtonEl =\n",
              "        document.querySelector('#' + key + ' button');\n",
              "      quickchartButtonEl.disabled = true;  // To prevent multiple clicks.\n",
              "      quickchartButtonEl.classList.add('colab-df-spinner');\n",
              "      try {\n",
              "        const charts = await google.colab.kernel.invokeFunction(\n",
              "            'suggestCharts', [key], {});\n",
              "      } catch (error) {\n",
              "        console.error('Error during call to suggestCharts:', error);\n",
              "      }\n",
              "      quickchartButtonEl.classList.remove('colab-df-spinner');\n",
              "      quickchartButtonEl.classList.add('colab-df-quickchart-complete');\n",
              "    }\n",
              "    (() => {\n",
              "      let quickchartButtonEl =\n",
              "        document.querySelector('#df-21b1f91e-a6fd-4c12-a5e7-70a70d0e482a button');\n",
              "      quickchartButtonEl.style.display =\n",
              "        google.colab.kernel.accessAllowed ? 'block' : 'none';\n",
              "    })();\n",
              "  </script>\n",
              "</div>\n",
              "    </div>\n",
              "  </div>\n"
            ]
          },
          "metadata": {},
          "execution_count": 14
        }
      ]
    },
    {
      "cell_type": "code",
      "source": [
        "train_df.reset_index(drop=True, inplace=True)\n",
        "train_df.dropna(inplace=True)\n",
        "test_df.reset_index(drop=True, inplace=True)\n",
        "test_df.dropna(inplace=True)"
      ],
      "metadata": {
        "id": "6wxP7O9WAm3y"
      },
      "execution_count": null,
      "outputs": []
    },
    {
      "cell_type": "code",
      "source": [
        "# train_df_word2vec = train_df\n",
        "# lol_word2vec, val_word2vec = train_test_split(train_df_word2vec, test_size=0.2, random_state=42)\n",
        "# train_word2vec, test_word2vec = lol_word2vec, test_df"
      ],
      "metadata": {
        "id": "pFG4Se6N5s6P"
      },
      "execution_count": null,
      "outputs": []
    },
    {
      "cell_type": "code",
      "source": [
        "# train_word2vec.reset_index(drop=True, inplace=True)\n",
        "# train_word2vec.dropna(inplace=True)\n",
        "# test_word2vec.reset_index(drop=True, inplace=True)\n",
        "# train_word2vec.dropna(inplace=True)\n",
        "# val_word2vec.reset_index(drop=True, inplace=True)\n",
        "# train_word2vec.dropna(inplace=True)"
      ],
      "metadata": {
        "id": "EWSBNS0Z4jlG"
      },
      "execution_count": null,
      "outputs": []
    },
    {
      "cell_type": "code",
      "source": [
        "train_labels_word2vec = train_df['is_duplicate']\n",
        "# val_labels_word2vec = val_word2vec['is_duplicate'].values\n",
        "test_labels_word2vec = test_df['is_duplicate']"
      ],
      "metadata": {
        "id": "BIa-A9n0KMxA"
      },
      "execution_count": null,
      "outputs": []
    },
    {
      "cell_type": "code",
      "source": [
        " np.isnan([np.nan, np.nan]).any()"
      ],
      "metadata": {
        "colab": {
          "base_uri": "https://localhost:8080/"
        },
        "id": "l1VHhdlp9wmA",
        "outputId": "8621b5ad-74b5-4d28-fca9-8d73dc61679d"
      },
      "execution_count": null,
      "outputs": [
        {
          "output_type": "execute_result",
          "data": {
            "text/plain": [
              "True"
            ]
          },
          "metadata": {},
          "execution_count": 29
        }
      ]
    },
    {
      "cell_type": "code",
      "source": [
        "train_df.isna().sum()"
      ],
      "metadata": {
        "id": "x5tDuyM87k71",
        "colab": {
          "base_uri": "https://localhost:8080/"
        },
        "outputId": "fc917aee-71e9-40e5-ba4a-2a98d43f2f13"
      },
      "execution_count": null,
      "outputs": [
        {
          "output_type": "execute_result",
          "data": {
            "text/plain": [
              "id                 0\n",
              "qid1               0\n",
              "qid2               0\n",
              "question1          0\n",
              "question2          0\n",
              "is_duplicate       0\n",
              "question1_clean    0\n",
              "question2_clean    0\n",
              "dtype: int64"
            ]
          },
          "metadata": {},
          "execution_count": 16
        }
      ]
    },
    {
      "cell_type": "code",
      "source": [
        "from tqdm import tqdm\n",
        "numtrainingpoints = train_df.shape[0]\n",
        "print(numtrainingpoints)\n",
        "\n",
        "from sklearn.linear_model import SGDClassifier\n",
        "\n",
        "def iter_minibatches(chunksize, numtrainingpoints):\n",
        "    chunkstartmarker = 0\n",
        "\n",
        "    while chunkstartmarker + chunksize < numtrainingpoints:\n",
        "        chunkrows = range(chunkstartmarker, chunkstartmarker + chunksize)\n",
        "        X1_chunk_raw, X2_chunk_raw, y_chunk = train_df.loc[chunkrows, 'question1_clean'], train_df.loc[chunkrows, 'question2_clean'], train_df.loc[chunkrows, 'is_duplicate']\n",
        "        X_chunk = []\n",
        "\n",
        "        for text1, text2 in zip(list(X1_chunk_raw), list(X2_chunk_raw)):\n",
        "          embed = w2v_embedding(text1, text2)\n",
        "          if np.isnan(embed).any():\n",
        "            print(\"true\")\n",
        "          X_chunk.append(embed)\n",
        "          #print(np.isnan(embed))\n",
        "        yield X_chunk, y_chunk\n",
        "        chunkstartmarker += chunksize\n",
        "\n",
        "\n",
        "batcherator = iter_minibatches(chunksize=1000, numtrainingpoints=numtrainingpoints)\n",
        "model = SGDClassifier()\n",
        "\n",
        "#Train model\n",
        "for X_chunk, y_chunk in tqdm(batcherator):\n",
        "  try:\n",
        "    #print(np.isnan(X_chunk))\n",
        "    model.partial_fit(X_chunk, y_chunk, classes=[0, 1])  # Assuming binary classification\n",
        "  except:\n",
        "    print(X_chunk,len(y_chunk))\n",
        "    assert 2==1\n",
        "\n",
        "# # Train model\n",
        "# for X_chunk, y_chunk in batcherator:\n",
        "#     model.partial_fit(X_chunk, y_chunk, classes=[0, 1])  # Assuming binary classification\n"
      ],
      "metadata": {
        "colab": {
          "base_uri": "https://localhost:8080/"
        },
        "id": "oQSaPNyE7j4R",
        "outputId": "1fc6f208-d121-4063-dcbc-3f20104edd10"
      },
      "execution_count": null,
      "outputs": [
        {
          "metadata": {
            "tags": null
          },
          "name": "stdout",
          "output_type": "stream",
          "text": [
            "323478\n"
          ]
        },
        {
          "output_type": "stream",
          "name": "stderr",
          "text": [
            "298it [4:31:09, 54.86s/it]"
          ]
        }
      ]
    },
    {
      "cell_type": "markdown",
      "source": [
        "embedding for test df"
      ],
      "metadata": {
        "id": "7bnIDD374kfq"
      }
    },
    {
      "cell_type": "code",
      "source": [
        "X1_test_raw, X2_test_raw = test_df['question1_clean'], test_df['question2_clean']\n",
        "X_test = []\n",
        "for text1, text2 in zip(list(X1_test_raw), list(X2_test_raw)):\n",
        "          embed = w2v_embedding(text1, text2)\n",
        "          if np.isnan(embed).any():\n",
        "            print(\"true\")\n",
        "          X_test.append(embed)"
      ],
      "metadata": {
        "id": "B8ozJFQw4j16"
      },
      "execution_count": null,
      "outputs": []
    },
    {
      "cell_type": "code",
      "source": [
        "X_test[:10]"
      ],
      "metadata": {
        "id": "Ke1cACmxN4ML"
      },
      "execution_count": null,
      "outputs": []
    },
    {
      "cell_type": "code",
      "source": [
        "# Now make predictions with trained model\n",
        "# y_predicted = model.predict(X_test)\n",
        "\n",
        "#SGD\n",
        "from sklearn.metrics import confusion_matrix, precision_score, recall_score, f1_score, accuracy_score\n",
        "# # accuracy of validation set\n",
        "# pred_val_word2vec = model.predict(val_labels_word2vec)\n",
        "# print('Train accuracy:', accuracy_score(val_labels_word2vec, pred_val_word2vec))\n",
        "# accuracy of test set\n",
        "pred_test_word2vec = model.predict(X_test)\n",
        "acc = accuracy_score(test_df['is_duplicate'], pred_test_word2vec)\n",
        "f1 = f1_score(test_df['is_duplicate'], pred_test_word2vec)\n",
        "prec = precision_score(test_df['is_duplicate'], pred_test_word2vec)\n",
        "rec = recall_score(test_df['is_duplicate'], pred_test_word2vec)\n",
        "cm = confusion_matrix(test_df['is_duplicate'], pred_test_word2vec)\n",
        "print(f'accuracy: {acc}')\n",
        "print(f'precision: {prec}')\n",
        "print(f'recall: {rec}')\n",
        "print(f'f1 score: {f1}')\n",
        "print(f'confusion matrix: {cm}')"
      ],
      "metadata": {
        "id": "t1-mawJkKzRr",
        "colab": {
          "base_uri": "https://localhost:8080/"
        },
        "outputId": "dc8f1eb2-c760-42bb-d0d8-56f11bd7a9b6"
      },
      "execution_count": null,
      "outputs": [
        {
          "output_type": "stream",
          "name": "stdout",
          "text": [
            "accuracy: 0.6831086929640163\n",
            "precision: 0.5921899066775392\n",
            "recall: 0.4401791426743442\n",
            "f1 score: 0.504993142879218\n",
            "confusion matrix: [[42171  9002]\n",
            " [16625 13072]]\n"
          ]
        }
      ]
    },
    {
      "cell_type": "code",
      "source": [
        "from sklearn.metrics import roc_curve, auc\n",
        "import matplotlib.pyplot as plt\n",
        "# Get raw decision values\n",
        "raw_decision_values = model.decision_function(X_test)\n",
        "# Apply sigmoid to get probabilities\n",
        "pred_scores = 1 / (1 + np.exp(-raw_decision_values))\n",
        "# Compute ROC curve and ROC area for each class\n",
        "fpr, tpr, _ = roc_curve(test_df['is_duplicate'], pred_scores)\n",
        "roc_auc = auc(fpr, tpr)\n",
        "\n",
        "# Plot ROC curve\n",
        "plt.figure(figsize=(5, 5))\n",
        "plt.plot(fpr, tpr, color='darkorange', lw=2, label=f'ROC curve (area = {roc_auc:.2f})')\n",
        "plt.plot([0, 1], [0, 1], color='navy', lw=2, linestyle='--')\n",
        "plt.xlim([0.0, 1.0])\n",
        "plt.ylim([0.0, 1.05])\n",
        "plt.xlabel('False Positive Rate')\n",
        "plt.ylabel('True Positive Rate')\n",
        "plt.title('ROC Curve for SVM with Word2Vec representation')\n",
        "plt.legend(loc='lower right')\n",
        "plt.show()"
      ],
      "metadata": {
        "id": "RNo2PqmIKzYD",
        "colab": {
          "base_uri": "https://localhost:8080/",
          "height": 487
        },
        "outputId": "17f02424-41bd-49d6-a5a0-e5ba435ae1e4"
      },
      "execution_count": null,
      "outputs": [
        {
          "output_type": "display_data",
          "data": {
            "text/plain": [
              "<Figure size 500x500 with 1 Axes>"
            ],
            "image/png": "[encoded data removed]"
          },
          "metadata": {}
        }
      ]
    },
    {
      "cell_type": "code",
      "source": [
        "print(classification_report(test_df['is_duplicate'], pred_test_word2vec))"
      ],
      "metadata": {
        "colab": {
          "base_uri": "https://localhost:8080/"
        },
        "id": "VYpRo1SjO6Po",
        "outputId": "bf316732-17e9-40da-e839-414d0d5b47cb"
      },
      "execution_count": null,
      "outputs": [
        {
          "output_type": "stream",
          "name": "stdout",
          "text": [
            "              precision    recall  f1-score   support\n",
            "\n",
            "           0       0.72      0.82      0.77     51173\n",
            "           1       0.59      0.44      0.50     29697\n",
            "\n",
            "    accuracy                           0.68     80870\n",
            "   macro avg       0.65      0.63      0.64     80870\n",
            "weighted avg       0.67      0.68      0.67     80870\n",
            "\n"
          ]
        }
      ]
    },
    {
      "cell_type": "code",
      "source": [
        "#cross val\n",
        "from sklearn.model_selection import cross_val_score,KFold\n",
        "from sklearn.model_selection import StratifiedKFold\n",
        "# model = SGDClassifier()\n",
        "# kf = StratifiedKFold(n_splits=5, shuffle=True, random_state=1)\n",
        "# #logreg_score=cross_val_score(logreg,X,Y,cv=kf)\n",
        "# sgd_score = cross_val_score(model, train_df, train_df['is_duplicate'], cv = kf)\n",
        "# print(\"Cross Validation Scores are {}\".format(sgd_score))\n",
        "# print(\"Average Cross Validation score :{}+/- {}\".format(sgd_score.mean()*100,sgd_score.std()*100))\n",
        "# Define your cross-validation strategy\n",
        "cv = KFold(n_splits=5, shuffle=True, random_state=1)  # You can adjust the number of splits as needed\n",
        "\n",
        "# Create an empty list to store cross-validation scores\n",
        "cv_scores = []\n",
        "\n",
        "# Perform cross-validation\n",
        "for train_index, test_index in tqdm(cv.split(train_df)):\n",
        "    X_train, X_test = train_df.iloc[train_index], train_df.iloc[test_index]\n",
        "\n",
        "    batcherator_train = iter_minibatches(chunksize=1000, numtrainingpoints=len(X_train))\n",
        "    X_train_cv, y_train_cv = next(batcherator_train)\n",
        "\n",
        "    # Train the model using partial_fit\n",
        "    model.partial_fit(X_train_cv, y_train_cv, classes=[0, 1])\n",
        "\n",
        "    # Test the model on the validation set and calculate the score\n",
        "    batcherator_test = iter_minibatches(chunksize=1000, numtrainingpoints=len(X_test))\n",
        "    X_test_cv, y_test_cv = next(batcherator_test)\n",
        "\n",
        "    score = model.score(X_test_cv, y_test_cv)\n",
        "    cv_scores.append(score)\n",
        "\n",
        "# Print the cross-validation scores\n",
        "print(\"Cross-Validation Scores:\", cv_scores)\n",
        "print(\"Mean CV Score:\", np.mean(cv_scores))"
      ],
      "metadata": {
        "colab": {
          "base_uri": "https://localhost:8080/"
        },
        "id": "6zdbjXjRP-p7",
        "outputId": "0e128ef3-1587-4025-d47e-0867c3b71f79"
      },
      "execution_count": null,
      "outputs": [
        {
          "output_type": "stream",
          "name": "stderr",
          "text": [
            "5it [09:31, 114.35s/it]"
          ]
        },
        {
          "output_type": "stream",
          "name": "stdout",
          "text": [
            "Cross-Validation Scores: [0.719, 0.701, 0.752, 0.628, 0.717]\n",
            "Mean CV Score: 0.7034\n"
          ]
        },
        {
          "output_type": "stream",
          "name": "stderr",
          "text": [
            "\n"
          ]
        }
      ]
    },
    {
      "cell_type": "code",
      "source": [],
      "metadata": {
        "id": "CQC0r3eDP-tb"
      },
      "execution_count": null,
      "outputs": []
    }
  ]
}
